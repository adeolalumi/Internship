{
  "nbformat": 4,
  "nbformat_minor": 0,
  "metadata": {
    "colab": {
      "provenance": []
    },
    "kernelspec": {
      "name": "python3",
      "display_name": "Python 3"
    },
    "language_info": {
      "name": "python"
    }
  },
  "cells": [
    {
      "cell_type": "code",
      "execution_count": 12,
      "metadata": {
        "colab": {
          "base_uri": "https://localhost:8080/"
        },
        "id": "mDf0kvVcu4_d",
        "outputId": "2655c1c2-82ca-4c33-f494-d039917ffdb4"
      },
      "outputs": [
        {
          "output_type": "stream",
          "name": "stdout",
          "text": [
            "material substring found:['abcEFG01234']\n"
          ]
        }
      ],
      "source": [
        "# Question 1- Write a RegEx pattern in python program to check that a string contains only a certain set of characters (in this case a-z, A-Z and 0-9).\n",
        "import re\n",
        "material = 'abcEFG01234!'\n",
        "pattern = r'[a-zA-Z0-9]+'\n",
        "output = re.findall(pattern,material)\n",
        "if output:\n",
        "  print(f'material substring found:{output}')\n",
        "else:\n",
        "  print('substring not found')"
      ]
    },
    {
      "cell_type": "code",
      "source": [
        "# Question 2- Write a RegEx pattern that matches a string that has an a followed by zero or more b's\n",
        "import re\n",
        "\n",
        "pattern = re.compile(r'ab*')\n",
        "\n",
        "# Test the pattern\n",
        "test_strings = ['a', 'ab', 'abb', 'aabbb', 'ac', 'bc']\n",
        "for test_string in test_strings:\n",
        "    if pattern.match(test_string):\n",
        "        print(f'{test_string} matches the pattern.')\n",
        "    else:\n",
        "        print(f'for example {test_string}  does not match the pattern.')\n"
      ],
      "metadata": {
        "id": "TWjkycg2XUZM",
        "colab": {
          "base_uri": "https://localhost:8080/"
        },
        "outputId": "c848200f-23e0-44bb-9358-ca3d246c7208"
      },
      "execution_count": 7,
      "outputs": [
        {
          "output_type": "stream",
          "name": "stdout",
          "text": [
            "a matches the pattern.\n",
            "ab matches the pattern.\n",
            "abb matches the pattern.\n",
            "aabbb matches the pattern.\n",
            "ac matches the pattern.\n",
            "for example bc  does not match the pattern.\n"
          ]
        }
      ]
    },
    {
      "cell_type": "code",
      "source": [
        "# Question 3-  Write a RegEx pattern that matches a string that has an a followed by one or more b's\n",
        "import re\n",
        "pattern = re.compile(r'ab+')\n",
        "\n",
        "# Test the pattern\n",
        "test_strings = ['ab', 'abb', 'abbb', 'a', 'ac']\n",
        "for test_string in test_strings:\n",
        "    if pattern.match(test_string):\n",
        "        print(f'{test_string} matches the pattern.')\n",
        "    else:\n",
        "        print(f'for example {test_string} does not match the pattern.')"
      ],
      "metadata": {
        "colab": {
          "base_uri": "https://localhost:8080/"
        },
        "id": "OVlBDU6zcs-c",
        "outputId": "51390d6e-082e-4fea-c14d-83713cfecf6c"
      },
      "execution_count": 20,
      "outputs": [
        {
          "output_type": "stream",
          "name": "stdout",
          "text": [
            "ab matches the pattern.\n",
            "abb matches the pattern.\n",
            "abbb matches the pattern.\n",
            "for example a does not match the pattern.\n",
            "for example ac does not match the pattern.\n"
          ]
        }
      ]
    },
    {
      "cell_type": "code",
      "source": [
        "# Question 4- Write a RegEx pattern that matches a string that has an a followed by zero or one 'b'\n",
        "import re\n",
        "\n",
        "pattern = re.compile(r'ab?')\n",
        "\n",
        "# Test the pattern\n",
        "test_strings = [\"a\", \"ab\", \"ac\", \"ad\", \"ae\"]\n",
        "for test_string in test_strings:\n",
        "    if pattern.match(test_string):\n",
        "        print(f\"{test_string} matches the pattern.\")\n",
        "    else:\n",
        "        print(f\"{test_string} does not match the pattern.\")\n",
        "\n"
      ],
      "metadata": {
        "colab": {
          "base_uri": "https://localhost:8080/"
        },
        "id": "MSpbADo5exWA",
        "outputId": "02e832bd-e0e9-48ba-d0ca-30ee3fc3c7a3"
      },
      "execution_count": 23,
      "outputs": [
        {
          "output_type": "stream",
          "name": "stdout",
          "text": [
            "a matches the pattern.\n",
            "ab matches the pattern.\n",
            "ac matches the pattern.\n",
            "ad matches the pattern.\n",
            "ae matches the pattern.\n"
          ]
        }
      ]
    },
    {
      "cell_type": "code",
      "source": [
        "# Question 5- Write a RegEx pattern in python program that matches a string that has an a followed by three 'b'.\n",
        "import re\n",
        "\n",
        "pattern = re.compile(r'abb{3}')\n",
        "\n",
        "# Test the pattern\n",
        "test_strings = ['abbb', 'abbbb', 'abb', 'abc', 'ab', 'a']\n",
        "for test_string in test_strings:\n",
        "    if pattern.match(test_string):\n",
        "        print(f'{test_string} matches the pattern.')\n",
        "    else:\n",
        "        print(f'{test_string} does not match the pattern.')\n"
      ],
      "metadata": {
        "colab": {
          "base_uri": "https://localhost:8080/"
        },
        "id": "IIUdKEnNhRKc",
        "outputId": "7685865f-21b0-4ba0-cc73-8de76e2c61a2"
      },
      "execution_count": 8,
      "outputs": [
        {
          "output_type": "stream",
          "name": "stdout",
          "text": [
            "abbb does not match the pattern.\n",
            "abbbb matches the pattern.\n",
            "abb does not match the pattern.\n",
            "abc does not match the pattern.\n",
            "ab does not match the pattern.\n",
            "a does not match the pattern.\n"
          ]
        }
      ]
    },
    {
      "cell_type": "code",
      "source": [
        "# Question 6- Write a RegEx pattern in python program that matches a string that has an a followed by two to three 'b'.\n",
        "\n",
        "import re\n",
        "\n",
        "pattern = re.compile(r'ab{2,3}')\n",
        "\n",
        "# Test the pattern\n",
        "test_strings = ['abb', 'abbb', 'abbbb', 'abc', 'ab', 'a']\n",
        "for test_string in test_strings:\n",
        "    if pattern.match(test_string):\n",
        "        print(f'{test_string} matches the pattern.')\n",
        "    else:\n",
        "        print(f'{test_string} does not match the pattern.')\n"
      ],
      "metadata": {
        "colab": {
          "base_uri": "https://localhost:8080/"
        },
        "id": "sKaePL20h0h1",
        "outputId": "3636cce3-7aa7-4b25-dfb7-e13dade5c601"
      },
      "execution_count": 9,
      "outputs": [
        {
          "output_type": "stream",
          "name": "stdout",
          "text": [
            "abb matches the pattern.\n",
            "abbb matches the pattern.\n",
            "abbbb matches the pattern.\n",
            "abc does not match the pattern.\n",
            "ab does not match the pattern.\n",
            "a does not match the pattern.\n"
          ]
        }
      ]
    },
    {
      "cell_type": "code",
      "source": [
        "# Question 7- Write a Python program that matches a string that has an 'a' followed by anything, ending in 'b'.\n",
        "import re\n",
        "\n",
        "pattern = re.compile(r'a.*b$')\n",
        "\n",
        "#Testing pattern\n",
        "material = ['abc','a123b','ac','abbb','axyzb']\n",
        "for item in material:\n",
        "  if pattern.match(item):\n",
        "    print(f'{item} matches the pattern')\n",
        "  else:\n",
        "    print(f'{item} does not match the pattern.')"
      ],
      "metadata": {
        "colab": {
          "base_uri": "https://localhost:8080/"
        },
        "id": "EvtN5PFm-TP1",
        "outputId": "ff27b755-2652-46a4-b211-1b3ef22f3321"
      },
      "execution_count": 1,
      "outputs": [
        {
          "output_type": "stream",
          "name": "stdout",
          "text": [
            "abc does not match the pattern.\n",
            "a123b matches the pattern\n",
            "ac does not match the pattern.\n",
            "abbb matches the pattern\n",
            "axyzb matches the pattern\n"
          ]
        }
      ]
    },
    {
      "cell_type": "code",
      "source": [
        "# Question 8- Write a RegEx pattern in python program that matches a word at the beginning of a string.\n",
        "import re\n",
        "\n",
        "pattern = re.compile(r'^\\w')\n",
        "material = ['Action','a1234b','123abc','!Phone','%_of_crime','Word']\n",
        "for item in material:\n",
        "  if pattern.match(item):\n",
        "    print(f'{item} matches the pattern')\n",
        "  else:\n",
        "    print(f'{item} does not match the pattern.')"
      ],
      "metadata": {
        "colab": {
          "base_uri": "https://localhost:8080/"
        },
        "id": "LcernnfuCLn9",
        "outputId": "dea396ba-a666-416e-a512-dbda9b108070"
      },
      "execution_count": 2,
      "outputs": [
        {
          "output_type": "stream",
          "name": "stdout",
          "text": [
            "Action matches the pattern\n",
            "a1234b matches the pattern\n",
            "123abc matches the pattern\n",
            "!Phone does not match the pattern.\n",
            "%_of_crime does not match the pattern.\n",
            "Word matches the pattern\n"
          ]
        }
      ]
    },
    {
      "cell_type": "code",
      "source": [
        "\n",
        "# Question 9- Write a RegEx pattern in python program that matches a word at the end of a string.\n",
        "\n",
        "import re\n",
        "\n",
        "pattern = re.compile(r'\\w+$')\n",
        "\n",
        "# Test the pattern\n",
        "material = ['Hello', '123abc', 'Word', 'Special!', '12345']\n",
        "for item in material:\n",
        "    if pattern.match(item):\n",
        "        print(f'{item} matches the pattern.')\n",
        "    else:\n",
        "        print(f'{item} does not match the pattern.')\n"
      ],
      "metadata": {
        "colab": {
          "base_uri": "https://localhost:8080/"
        },
        "id": "qrCUsgdgH4e0",
        "outputId": "a654eee5-6c20-459c-aa1e-b4c15bcc53ea"
      },
      "execution_count": 5,
      "outputs": [
        {
          "output_type": "stream",
          "name": "stdout",
          "text": [
            "Hello matches the pattern.\n",
            "123abc matches the pattern.\n",
            "Word matches the pattern.\n",
            "Special! does not match the pattern.\n",
            "12345 matches the pattern.\n"
          ]
        }
      ]
    },
    {
      "cell_type": "code",
      "source": [
        "# Question 10- Write a RegEx pattern in python program to find all words that are 4 digits long in a string.\n",
        "import re\n",
        "pattern = re.compile(r'\\b\\d{4}\\b')\n",
        "\n",
        "sample_text = '01 0132 231875 1458 301 2725.'\n",
        "matchs = pattern.findall(sample_text)\n",
        "print(f'Four Digits: {matchs}')\n",
        "\n"
      ],
      "metadata": {
        "colab": {
          "base_uri": "https://localhost:8080/"
        },
        "id": "1Zn_N_19LNyS",
        "outputId": "20f44a5c-fdde-4b61-cefc-cbd56a6c55ed"
      },
      "execution_count": 6,
      "outputs": [
        {
          "output_type": "stream",
          "name": "stdout",
          "text": [
            "Four Digits: ['0132', '1458', '2725']\n"
          ]
        }
      ]
    }
  ]
}