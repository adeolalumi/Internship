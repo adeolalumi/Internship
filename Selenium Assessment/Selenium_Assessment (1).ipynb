{
 "cells": [
  {
   "cell_type": "code",
   "execution_count": 14,
   "id": "0f9c5f2c-d6a2-4e6d-9246-807f5a8728db",
   "metadata": {},
   "outputs": [
    {
     "name": "stdout",
     "output_type": "stream",
     "text": [
      "Question One\n"
     ]
    }
   ],
   "source": [
    "print('Question One')"
   ]
  },
  {
   "cell_type": "code",
   "execution_count": 2,
   "id": "5c1d6592-a89a-4c7e-be04-f91c63ebc950",
   "metadata": {},
   "outputs": [
    {
     "name": "stdout",
     "output_type": "stream",
     "text": [
      "Start\n"
     ]
    }
   ],
   "source": [
    "print('Start')"
   ]
  },
  {
   "cell_type": "code",
   "execution_count": 1,
   "id": "3251f959-855d-4156-8e83-e70b961c20fa",
   "metadata": {},
   "outputs": [],
   "source": [
    "#Importing Library\n",
    "import selenium\n",
    "import pandas as pd\n",
    "from selenium import webdriver\n",
    "import warnings\n",
    "warnings.filterwarnings('ignore')\n",
    "from selenium.webdriver.common.by import By\n",
    "import time"
   ]
  },
  {
   "cell_type": "code",
   "execution_count": 2,
   "id": "53e28be0-afbf-4ff2-9558-1d50c3f9c1d2",
   "metadata": {},
   "outputs": [],
   "source": [
    "# Assigning driver\n",
    "driver = webdriver.Chrome()"
   ]
  },
  {
   "cell_type": "code",
   "execution_count": 3,
   "id": "3d558a47-df4b-457b-b985-ac8ade870336",
   "metadata": {},
   "outputs": [],
   "source": [
    "#Getting the web-page\n",
    "driver.get('https://www.shine.com/')\n",
    "# setting up delay\n",
    "time.sleep(5)"
   ]
  },
  {
   "cell_type": "code",
   "execution_count": 6,
   "id": "3d8db863-6280-420d-bb7b-cbfae3f1d07e",
   "metadata": {},
   "outputs": [],
   "source": [
    "# Locate the input field using XPath\n",
    "job_title = driver.find_element(By.XPATH, \"/html/body/div/div[4]/div/div[2]/div[2]/div/form/div/div[1]/ul/li[1]/div/input\" )\n",
    "# Enter the text 'Data Analyst' into the input field\n",
    "job_title.send_keys('Data Analyst')"
   ]
  },
  {
   "cell_type": "code",
   "execution_count": 8,
   "id": "46e86f0c-65a3-4a2c-a2b8-e1ca916eb467",
   "metadata": {},
   "outputs": [],
   "source": [
    "# Locate the input field using XPath\n",
    "job_location = driver.find_element(By.XPATH,\"/html/body/div/div[4]/div/div[2]/div[2]/div/form/div/div[1]/ul/li[2]/div/input\")\n",
    "\n",
    "#Enter the text 'Bangalore' into the input field\n",
    "job_location.send_keys('Bangalore')"
   ]
  },
  {
   "cell_type": "code",
   "execution_count": 12,
   "id": "971c00eb-3088-465f-b19b-3b60677d90cf",
   "metadata": {},
   "outputs": [],
   "source": [
    "# Locate the search field using XPath\n",
    "job_search = driver.find_element(By.XPATH,\"/html/body/div/div[4]/div/div[2]/div[2]/div/form/div/div[2]/div/button\")\n",
    "# Executing click\n",
    "job_search.click()"
   ]
  },
  {
   "cell_type": "code",
   "execution_count": 13,
   "id": "26303aef-3017-4a4c-abb1-304306be197e",
   "metadata": {},
   "outputs": [],
   "source": [
    "# Assigning empty list\n",
    "titles = []\n",
    "locations = []\n"
   ]
  },
  {
   "cell_type": "code",
   "execution_count": 14,
   "id": "224b8ba2-5f5c-480d-8ada-ec718f3a0a11",
   "metadata": {},
   "outputs": [],
   "source": [
    "# Locate the title field using XPath\n",
    "title_tag = driver.find_elements(By.XPATH, \"//h2[@itemprop='name']/a\")\n",
    "# Iterate over the elements and extract text\n",
    "for index, item in enumerate(title_tag):\n",
    "    if index >= 10:\n",
    "        break\n",
    "    title = item.text.strip()\n",
    "    titles.append(title)"
   ]
  },
  {
   "cell_type": "code",
   "execution_count": 15,
   "id": "4d8c8961-ea95-4c48-ae8a-e49ecaea0035",
   "metadata": {},
   "outputs": [],
   "source": [
    "location_tag = driver.find_elements(By.XPATH, \"//div[@class=' jobCard_jobCard_lists_item__YxRkV jobCard_locationIcon__zrWt2']\")\n",
    "for index, item in enumerate(location_tag):\n",
    "    if index >= 10:\n",
    "        break\n",
    "    location = item.text.strip()\n",
    "    locations.append(location)"
   ]
  },
  {
   "cell_type": "code",
   "execution_count": 39,
   "id": "0b3f93ca-2f95-461d-b8e1-6dc2c3d90389",
   "metadata": {},
   "outputs": [
    {
     "name": "stdout",
     "output_type": "stream",
     "text": [
      "['Bangalore', 'Bangalore\\n+3', 'Bangalore\\n+14', 'Bangalore\\n+6', 'Bangalore', 'Bangalore', 'Bangalore', 'Bangalore', 'Bangalore\\n+4', 'Bangalore\\n+13']\n"
     ]
    }
   ],
   "source": [
    "print(locations)"
   ]
  },
  {
   "cell_type": "code",
   "execution_count": 16,
   "id": "88e1ea8d-7dc5-4540-b9ff-bef1636a87d5",
   "metadata": {},
   "outputs": [
    {
     "data": {
      "text/html": [
       "<div>\n",
       "<style scoped>\n",
       "    .dataframe tbody tr th:only-of-type {\n",
       "        vertical-align: middle;\n",
       "    }\n",
       "\n",
       "    .dataframe tbody tr th {\n",
       "        vertical-align: top;\n",
       "    }\n",
       "\n",
       "    .dataframe thead th {\n",
       "        text-align: right;\n",
       "    }\n",
       "</style>\n",
       "<table border=\"1\" class=\"dataframe\">\n",
       "  <thead>\n",
       "    <tr style=\"text-align: right;\">\n",
       "      <th></th>\n",
       "      <th>Job Title</th>\n",
       "      <th>Location</th>\n",
       "    </tr>\n",
       "  </thead>\n",
       "  <tbody>\n",
       "    <tr>\n",
       "      <th>0</th>\n",
       "      <td>Lead Data Analyst</td>\n",
       "      <td>Bangalore</td>\n",
       "    </tr>\n",
       "    <tr>\n",
       "      <th>1</th>\n",
       "      <td>Data Analyst</td>\n",
       "      <td>Bangalore\\n+3</td>\n",
       "    </tr>\n",
       "    <tr>\n",
       "      <th>2</th>\n",
       "      <td>Vacancy For Data Analyst</td>\n",
       "      <td>Bangalore\\n+14</td>\n",
       "    </tr>\n",
       "    <tr>\n",
       "      <th>3</th>\n",
       "      <td>Data Management</td>\n",
       "      <td>Bangalore\\n+18</td>\n",
       "    </tr>\n",
       "    <tr>\n",
       "      <th>4</th>\n",
       "      <td>Clinical Data Analyst</td>\n",
       "      <td>Bangalore\\n+6</td>\n",
       "    </tr>\n",
       "    <tr>\n",
       "      <th>5</th>\n",
       "      <td>Data Modeler data</td>\n",
       "      <td>Bangalore</td>\n",
       "    </tr>\n",
       "    <tr>\n",
       "      <th>6</th>\n",
       "      <td>Full time Opportunity-Networking Advisor-Cisco...</td>\n",
       "      <td>Bangalore\\n+5</td>\n",
       "    </tr>\n",
       "    <tr>\n",
       "      <th>7</th>\n",
       "      <td>Data Modeller</td>\n",
       "      <td>Bangalore</td>\n",
       "    </tr>\n",
       "    <tr>\n",
       "      <th>8</th>\n",
       "      <td>Data Modeler Bangalore</td>\n",
       "      <td>Bangalore</td>\n",
       "    </tr>\n",
       "    <tr>\n",
       "      <th>9</th>\n",
       "      <td>Data Modeler</td>\n",
       "      <td>Bangalore</td>\n",
       "    </tr>\n",
       "  </tbody>\n",
       "</table>\n",
       "</div>"
      ],
      "text/plain": [
       "                                           Job Title        Location\n",
       "0                                  Lead Data Analyst       Bangalore\n",
       "1                                       Data Analyst   Bangalore\\n+3\n",
       "2                           Vacancy For Data Analyst  Bangalore\\n+14\n",
       "3                                    Data Management  Bangalore\\n+18\n",
       "4                              Clinical Data Analyst   Bangalore\\n+6\n",
       "5                                  Data Modeler data       Bangalore\n",
       "6  Full time Opportunity-Networking Advisor-Cisco...   Bangalore\\n+5\n",
       "7                                      Data Modeller       Bangalore\n",
       "8                             Data Modeler Bangalore       Bangalore\n",
       "9                                       Data Modeler       Bangalore"
      ]
     },
     "execution_count": 16,
     "metadata": {},
     "output_type": "execute_result"
    }
   ],
   "source": [
    "df = pd.DataFrame({'Job Title': titles,'Location':locations})\n",
    "df"
   ]
  },
  {
   "cell_type": "code",
   "execution_count": 16,
   "id": "fd1a6338-441d-4f6f-a6ec-ddf4c6acf0f8",
   "metadata": {},
   "outputs": [
    {
     "name": "stdout",
     "output_type": "stream",
     "text": [
      "Question Two\n"
     ]
    }
   ],
   "source": [
    "print('Question Two')"
   ]
  },
  {
   "cell_type": "code",
   "execution_count": 31,
   "id": "f710c727-fc72-47cd-a9dd-a95e04e58ecb",
   "metadata": {},
   "outputs": [],
   "source": [
    "driver2 = webdriver.Chrome()\n",
    "driver2.get('https://www.shine.com/')\n",
    "time.sleep(5)"
   ]
  },
  {
   "cell_type": "code",
   "execution_count": 35,
   "id": "4e9d9936-39d7-47ee-ae68-44a680d4bf49",
   "metadata": {},
   "outputs": [],
   "source": [
    "job_title = driver2.find_element(By.XPATH, '/html/body/div/div[4]/div/div[2]/div[2]/div/form/div/div[1]/ul/li[1]/div/input')\n",
    "job_title.send_keys('Data Scientist')"
   ]
  },
  {
   "cell_type": "code",
   "execution_count": 36,
   "id": "cb55b940-55d8-4ca5-b2d1-03bff268909c",
   "metadata": {},
   "outputs": [],
   "source": [
    "job_location = driver2.find_element(By.XPATH,\"/html/body/div/div[4]/div/div[2]/div[2]/div/form/div/div[1]/ul/li[2]/div/input\")\n",
    "job_location.send_keys('Bangalore')"
   ]
  },
  {
   "cell_type": "code",
   "execution_count": 43,
   "id": "29e9aa2c-f525-4dac-95b2-dfbf61ca6574",
   "metadata": {},
   "outputs": [],
   "source": [
    "job_search = driver2.find_element(By.XPATH,'/html/body/div/div[4]/div/div[2]/div[2]/div/form/div/div[2]/div/button')\n",
    "job_search.click()"
   ]
  },
  {
   "cell_type": "code",
   "execution_count": 44,
   "id": "7d635982-bae5-4313-91cf-904c31acecd7",
   "metadata": {},
   "outputs": [],
   "source": [
    "\n",
    "titles_DS = []\n",
    "locations_DS = []"
   ]
  },
  {
   "cell_type": "code",
   "execution_count": 50,
   "id": "e0562d60-88c5-4c03-a36e-e029a01b2644",
   "metadata": {},
   "outputs": [
    {
     "name": "stdout",
     "output_type": "stream",
     "text": [
      "<selenium.webdriver.remote.webelement.WebElement (session=\"d3080e55e2539be9cabdd431d1bf7346\", element=\"6BC26B230308A89783610FC23AB0D502_element_50\")>\n"
     ]
    }
   ],
   "source": [
    "# Iterate over the elements and extract text\n",
    "\n",
    "title_tag2 = driver.find_elements(By.XPATH, \"//h2[@itemprop='name']/a\")\n",
    "for index, item in enumerate(title_tag2):\n",
    "    if index >= 10:\n",
    "        break\n",
    "    title2 = item.text\n",
    "    titles_DS.append(title2)\n",
    "\n",
    "location_tagDS = driver.find_elements(By.XPATH, \"//div[@class=' jobCard_jobCard_lists_item__YxRkV jobCard_locationIcon__zrWt2']\")\n",
    "for index, item in enumerate(location_tagDS):\n",
    "    if index >= 10:\n",
    "        break\n",
    "    location2 = item.text.strip()\n",
    "    locations_DS.append(location2)\n",
    "\n"
   ]
  },
  {
   "cell_type": "code",
   "execution_count": 41,
   "id": "e4d433e1-b9b8-44d5-8dc9-058b024ea772",
   "metadata": {},
   "outputs": [
    {
     "name": "stdout",
     "output_type": "stream",
     "text": [
      "[]\n"
     ]
    }
   ],
   "source": []
  },
  {
   "cell_type": "code",
   "execution_count": 23,
   "id": "80a25d06-5caf-45cf-aa3c-fd80208683ec",
   "metadata": {},
   "outputs": [
    {
     "data": {
      "text/html": [
       "<div>\n",
       "<style scoped>\n",
       "    .dataframe tbody tr th:only-of-type {\n",
       "        vertical-align: middle;\n",
       "    }\n",
       "\n",
       "    .dataframe tbody tr th {\n",
       "        vertical-align: top;\n",
       "    }\n",
       "\n",
       "    .dataframe thead th {\n",
       "        text-align: right;\n",
       "    }\n",
       "</style>\n",
       "<table border=\"1\" class=\"dataframe\">\n",
       "  <thead>\n",
       "    <tr style=\"text-align: right;\">\n",
       "      <th></th>\n",
       "      <th>Job Title</th>\n",
       "      <th>Location</th>\n",
       "    </tr>\n",
       "  </thead>\n",
       "  <tbody>\n",
       "    <tr>\n",
       "      <th>0</th>\n",
       "      <td>Lead Data Analyst</td>\n",
       "      <td>Bangalore</td>\n",
       "    </tr>\n",
       "    <tr>\n",
       "      <th>1</th>\n",
       "      <td>Data Analyst</td>\n",
       "      <td>Bangalore\\n+3</td>\n",
       "    </tr>\n",
       "    <tr>\n",
       "      <th>2</th>\n",
       "      <td>Vacancy For Data Analyst</td>\n",
       "      <td>Bangalore\\n+14</td>\n",
       "    </tr>\n",
       "    <tr>\n",
       "      <th>3</th>\n",
       "      <td>Clinical Data Analyst</td>\n",
       "      <td>Bangalore\\n+6</td>\n",
       "    </tr>\n",
       "    <tr>\n",
       "      <th>4</th>\n",
       "      <td>Data Modeler data</td>\n",
       "      <td>Bangalore</td>\n",
       "    </tr>\n",
       "    <tr>\n",
       "      <th>5</th>\n",
       "      <td>Data Modeller</td>\n",
       "      <td>Bangalore</td>\n",
       "    </tr>\n",
       "    <tr>\n",
       "      <th>6</th>\n",
       "      <td>Data Modeler Bangalore</td>\n",
       "      <td>Bangalore</td>\n",
       "    </tr>\n",
       "    <tr>\n",
       "      <th>7</th>\n",
       "      <td>Data Modeler</td>\n",
       "      <td>Bangalore</td>\n",
       "    </tr>\n",
       "    <tr>\n",
       "      <th>8</th>\n",
       "      <td>Clinical Data Analyst</td>\n",
       "      <td>Bangalore\\n+4</td>\n",
       "    </tr>\n",
       "    <tr>\n",
       "      <th>9</th>\n",
       "      <td>Data Analyst Hiring Fresher and Experience</td>\n",
       "      <td>Bangalore\\n+13</td>\n",
       "    </tr>\n",
       "  </tbody>\n",
       "</table>\n",
       "</div>"
      ],
      "text/plain": [
       "                                    Job Title        Location\n",
       "0                           Lead Data Analyst       Bangalore\n",
       "1                                Data Analyst   Bangalore\\n+3\n",
       "2                    Vacancy For Data Analyst  Bangalore\\n+14\n",
       "3                       Clinical Data Analyst   Bangalore\\n+6\n",
       "4                           Data Modeler data       Bangalore\n",
       "5                               Data Modeller       Bangalore\n",
       "6                      Data Modeler Bangalore       Bangalore\n",
       "7                                Data Modeler       Bangalore\n",
       "8                       Clinical Data Analyst   Bangalore\\n+4\n",
       "9  Data Analyst Hiring Fresher and Experience  Bangalore\\n+13"
      ]
     },
     "execution_count": 23,
     "metadata": {},
     "output_type": "execute_result"
    }
   ],
   "source": [
    "df2 = pd.DataFrame({'Job Title': titles_DS,'Location':locations_DS})\n",
    "df2"
   ]
  },
  {
   "cell_type": "code",
   "execution_count": 13,
   "id": "62fb64de-da95-4007-8f6f-519145658951",
   "metadata": {},
   "outputs": [
    {
     "name": "stdout",
     "output_type": "stream",
     "text": [
      "Question Three\n"
     ]
    }
   ],
   "source": [
    "print('Question Three')"
   ]
  },
  {
   "cell_type": "code",
   "execution_count": 3,
   "id": "a27e8d0a-ad7a-4ebf-aa4d-10c9c331426f",
   "metadata": {},
   "outputs": [],
   "source": [
    "driver3 = webdriver.Chrome()\n",
    "driver3.get('https://www.shine.com/')\n",
    "time.sleep(5)"
   ]
  },
  {
   "cell_type": "code",
   "execution_count": 5,
   "id": "9f06e145-b37f-4aed-b8bd-75ea5df4cacc",
   "metadata": {},
   "outputs": [],
   "source": [
    "job_title = driver3.find_element(By.XPATH, \"/html/body/div/div[4]/div/div[2]/div[2]/div/form/div/div[1]/ul/li[1]/div/input\" )\n",
    "job_title.send_keys('Data Scientist')\n",
    "\n",
    "job_location = driver3.find_element(By.XPATH,\"/html/body/div/div[4]/div/div[2]/div[2]/div/form/div/div[1]/ul/li[2]/div/input\")\n",
    "job_location.send_keys('Delhi/NCR')\n",
    "\n",
    "job_experience = driver3.find_element(By.XPATH, \"/html/body/div/div[4]/div/div[2]/div[2]/div/form/div/div[1]/ul/li[3]/div/input[1]\")\n",
    "job_experience.send_keys('3-6')\n",
    "\n",
    "\n"
   ]
  },
  {
   "cell_type": "code",
   "execution_count": 6,
   "id": "c1af42e5-cf91-42ff-815a-44c694d73d10",
   "metadata": {},
   "outputs": [],
   "source": [
    "job_search = driver3.find_element(By.CLASS_NAME, 'btn.btn-secondary.undefined')\n",
    "job_search.click()\n"
   ]
  },
  {
   "cell_type": "code",
   "execution_count": 7,
   "id": "e21c5178-cbd9-47d2-87a2-a13746b9c652",
   "metadata": {},
   "outputs": [],
   "source": []
  },
  {
   "cell_type": "code",
   "execution_count": 29,
   "id": "6ea7179b-fea3-43c1-aad7-c0904a50792c",
   "metadata": {},
   "outputs": [],
   "source": [
    "title_tag3 = driver3.find_elements(By.XPATH, \"//h2[@itemprop='name']//a\")\n",
    "titlesx = []\n",
    "\n",
    "for index, i in enumerate(title_tag3):\n",
    "    if index >= 10:\n",
    "        break\n",
    "    title3 = i.text\n",
    "    titlesx.append(title3)\n",
    "\n",
    "\n",
    "location_tag3 = driver3.find_elements(By.XPATH, '//div[@class=\" jobCard_jobCard_lists_item__YxRkV jobCard_jobIcon__3FB1t\"]')\n",
    "locationsx = []\n",
    "\n",
    "# Iterate over the elements and extract text\n",
    "for index, location_element in enumerate(location_tag3):\n",
    "    if index >= 10:\n",
    "        break\n",
    "    location_text = location_element.text\n",
    "    locationsx.append(location_text)\n",
    "\n",
    "\n",
    "experience_tag3 = driver3.find_elements(By.XPATH, \"//div[@class=' jobCard_jobCard_lists_item__YxRkV jobCard_locationIcon__zrWt2']\")\n",
    "experiencex = []\n",
    "for index, i in enumerate(experience_tag3):\n",
    "    if index >= 10:\n",
    "        break\n",
    "    experience3 = i.text\n",
    "    experiencex.append(experience3)\n"
   ]
  },
  {
   "cell_type": "code",
   "execution_count": 30,
   "id": "8faa4484-81c0-44ae-9b11-9469a488234a",
   "metadata": {},
   "outputs": [
    {
     "name": "stdout",
     "output_type": "stream",
     "text": [
      "['8 to 13 Yrs', '3 to 7 Yrs', '0 to 7 Yrs', '1 to 2 Yrs', '5 to 9 Yrs', '3 to 7 Yrs', '2 to 6 Yrs', '5 to 9 Yrs', '8 to 12 Yrs', '2 to 4 Yrs']\n"
     ]
    }
   ],
   "source": [
    "print(locationsx)"
   ]
  },
  {
   "cell_type": "code",
   "execution_count": 32,
   "id": "c1dc58db-f44e-4669-8499-c871def5267a",
   "metadata": {},
   "outputs": [
    {
     "data": {
      "text/html": [
       "<div>\n",
       "<style scoped>\n",
       "    .dataframe tbody tr th:only-of-type {\n",
       "        vertical-align: middle;\n",
       "    }\n",
       "\n",
       "    .dataframe tbody tr th {\n",
       "        vertical-align: top;\n",
       "    }\n",
       "\n",
       "    .dataframe thead th {\n",
       "        text-align: right;\n",
       "    }\n",
       "</style>\n",
       "<table border=\"1\" class=\"dataframe\">\n",
       "  <thead>\n",
       "    <tr style=\"text-align: right;\">\n",
       "      <th></th>\n",
       "      <th>Job Title</th>\n",
       "      <th>Location</th>\n",
       "      <th>Experience</th>\n",
       "    </tr>\n",
       "  </thead>\n",
       "  <tbody>\n",
       "    <tr>\n",
       "      <th>0</th>\n",
       "      <td>Data Scientist | Senior Data Scientist Chennai</td>\n",
       "      <td>8 to 13 Yrs</td>\n",
       "      <td>Chennai</td>\n",
       "    </tr>\n",
       "    <tr>\n",
       "      <th>1</th>\n",
       "      <td>Data Scientist/Data Analyst-17740</td>\n",
       "      <td>3 to 7 Yrs</td>\n",
       "      <td>All India</td>\n",
       "    </tr>\n",
       "    <tr>\n",
       "      <th>2</th>\n",
       "      <td>Data Scientist /Quantitative Equity Researcher 2</td>\n",
       "      <td>0 to 7 Yrs</td>\n",
       "      <td>Other Maharashtra</td>\n",
       "    </tr>\n",
       "    <tr>\n",
       "      <th>3</th>\n",
       "      <td>Data Scientist</td>\n",
       "      <td>1 to 2 Yrs</td>\n",
       "      <td>Hyderabad\\n+1</td>\n",
       "    </tr>\n",
       "    <tr>\n",
       "      <th>4</th>\n",
       "      <td>Data Scientist</td>\n",
       "      <td>5 to 9 Yrs</td>\n",
       "      <td>Other Haryana</td>\n",
       "    </tr>\n",
       "    <tr>\n",
       "      <th>5</th>\n",
       "      <td>Data Scientist</td>\n",
       "      <td>3 to 7 Yrs</td>\n",
       "      <td>All India</td>\n",
       "    </tr>\n",
       "    <tr>\n",
       "      <th>6</th>\n",
       "      <td>Data Scientist</td>\n",
       "      <td>2 to 6 Yrs</td>\n",
       "      <td>Other Karnataka</td>\n",
       "    </tr>\n",
       "    <tr>\n",
       "      <th>7</th>\n",
       "      <td>Lead Data Scientist</td>\n",
       "      <td>5 to 9 Yrs</td>\n",
       "      <td>Other Karnataka</td>\n",
       "    </tr>\n",
       "    <tr>\n",
       "      <th>8</th>\n",
       "      <td>Lead Data Scientist</td>\n",
       "      <td>8 to 12 Yrs</td>\n",
       "      <td>Other Maharashtra\\n+1</td>\n",
       "    </tr>\n",
       "    <tr>\n",
       "      <th>9</th>\n",
       "      <td>Data Scientist</td>\n",
       "      <td>2 to 4 Yrs</td>\n",
       "      <td>Other Karnataka</td>\n",
       "    </tr>\n",
       "  </tbody>\n",
       "</table>\n",
       "</div>"
      ],
      "text/plain": [
       "                                          Job Title     Location  \\\n",
       "0    Data Scientist | Senior Data Scientist Chennai  8 to 13 Yrs   \n",
       "1                 Data Scientist/Data Analyst-17740   3 to 7 Yrs   \n",
       "2  Data Scientist /Quantitative Equity Researcher 2   0 to 7 Yrs   \n",
       "3                                    Data Scientist   1 to 2 Yrs   \n",
       "4                                    Data Scientist   5 to 9 Yrs   \n",
       "5                                    Data Scientist   3 to 7 Yrs   \n",
       "6                                    Data Scientist   2 to 6 Yrs   \n",
       "7                               Lead Data Scientist   5 to 9 Yrs   \n",
       "8                               Lead Data Scientist  8 to 12 Yrs   \n",
       "9                                    Data Scientist   2 to 4 Yrs   \n",
       "\n",
       "              Experience  \n",
       "0                Chennai  \n",
       "1              All India  \n",
       "2      Other Maharashtra  \n",
       "3          Hyderabad\\n+1  \n",
       "4          Other Haryana  \n",
       "5              All India  \n",
       "6        Other Karnataka  \n",
       "7        Other Karnataka  \n",
       "8  Other Maharashtra\\n+1  \n",
       "9        Other Karnataka  "
      ]
     },
     "execution_count": 32,
     "metadata": {},
     "output_type": "execute_result"
    }
   ],
   "source": [
    "df3 = pd.DataFrame({'Job Title': titlesx,'Location':locationsx,'Experience':experiencex})\n",
    "df3\n"
   ]
  },
  {
   "cell_type": "code",
   "execution_count": 33,
   "id": "eb285518-7b78-4fca-9a5e-17f5c6ff6b09",
   "metadata": {},
   "outputs": [
    {
     "name": "stdout",
     "output_type": "stream",
     "text": [
      "Question Four\n"
     ]
    }
   ],
   "source": [
    "print('Question Four')"
   ]
  },
  {
   "cell_type": "code",
   "execution_count": 2,
   "id": "c961f9f6-835f-4255-84c0-9ad54ad281e9",
   "metadata": {},
   "outputs": [],
   "source": [
    "driver4 = webdriver.Chrome()\n",
    "driver4.get('https://www.flipkart.com/')\n",
    "time.sleep(5) "
   ]
  },
  {
   "cell_type": "code",
   "execution_count": 3,
   "id": "63d36d40-bb43-4208-a477-1e7a242a2140",
   "metadata": {},
   "outputs": [],
   "source": [
    "product_search = driver4.find_element(By.XPATH,'/html/body/div[1]/div/div[1]/div/div/div/div/div[1]/div/div[1]/div/div[1]/div[1]/header/div[1]/div[2]/form/div/div/input')\n",
    "product_search.send_keys('sunglasses')"
   ]
  },
  {
   "cell_type": "code",
   "execution_count": 4,
   "id": "b415180d-9c33-41a0-aa36-b7be200c19d1",
   "metadata": {},
   "outputs": [],
   "source": [
    "product_rate = driver4.find_element(By.XPATH, '/html/body/div[1]/div/div[1]/div/div/div/div/div[1]/div/div[1]/div/div[1]/div[1]/header/div[1]/div[2]/form/div/button')\n",
    "\n"
   ]
  },
  {
   "cell_type": "code",
   "execution_count": 9,
   "id": "9b104033-488e-4272-811d-8c70cabb0b49",
   "metadata": {},
   "outputs": [
    {
     "name": "stdout",
     "output_type": "stream",
     "text": [
      "<selenium.webdriver.remote.webelement.WebElement (session=\"76557651003aba13d8cdd69ebc977ca3\", element=\"0CFFA7957109D249E8C736215E029F05_element_188\")>\n"
     ]
    }
   ],
   "source": [
    "print(product_run2)"
   ]
  },
  {
   "cell_type": "code",
   "execution_count": 6,
   "id": "03d484dd-bccb-46bc-967f-c03f1e01dfba",
   "metadata": {},
   "outputs": [],
   "source": [
    "# Now proceed with finding elements\n",
    "product_tags = driver4.find_elements(By.XPATH, \"//div[@class='_2WkVRV']\")\n",
    "\n",
    "product_tags2 = driver4.find_elements(By.XPATH, \"//div[@class='_2WkVRV']\")\n",
    "\n",
    "product_tags3 = driver4.find_elements(By.XPATH, \"//div[@class='_2WkVRV']\")\n",
    "\n",
    "#Defining list\n",
    "productx = []\n",
    "\n",
    "# Iterate over the elements and extract text\n",
    "for i in product_tags:\n",
    "    produce = i.text\n",
    "    productx.append(produce)\n",
    "\n",
    "for i in product_tags2:\n",
    "    produce2 = i.text\n",
    "    productx.append(produce2)\n"
   ]
  },
  {
   "cell_type": "code",
   "execution_count": 9,
   "id": "c8a50f75-95d1-4328-9897-7e7a0fd94ce8",
   "metadata": {},
   "outputs": [
    {
     "name": "stdout",
     "output_type": "stream",
     "text": [
      "['ROZZETTA CRAFT', 'NuVew', 'Elligator', 'ROYAL SON', 'ROYAL SON', 'Elligator', 'PROVOGUE', 'ROYAL SON', 'PIRASO', 'Fastrack', 'Eyenaks', 'AISLIN', 'Singco India', 'Singco India', 'PIRASO', 'PIRASO', 'ROYAL SON', 'NuVew', 'VINCENT CHASE', 'ROZZETTA CRAFT', 'ROYAL SON', 'NuVew', 'ROZZETTA CRAFT', 'ROZZETTA CRAFT', 'Royaltail', 'Rich Club', 'AISLIN', 'NuVew', 'SRPM', 'PIRASO', 'ROYAL SON', 'Eyewearlabs', 'Singco India', 'METRONAUT', 'PIRASO', 'PC STAR', 'Hooper', 'ROYAL SON', 'BKGE', 'Elgator', 'ROZZETTA CRAFT', 'NuVew', 'Elligator', 'ROYAL SON', 'ROYAL SON', 'Elligator', 'PROVOGUE', 'ROYAL SON', 'PIRASO', 'Fastrack', 'Eyenaks', 'AISLIN', 'Singco India', 'Singco India', 'PIRASO', 'PIRASO', 'ROYAL SON', 'NuVew', 'VINCENT CHASE', 'ROZZETTA CRAFT', 'ROYAL SON', 'NuVew', 'ROZZETTA CRAFT', 'ROZZETTA CRAFT', 'Royaltail', 'Rich Club', 'AISLIN', 'NuVew', 'SRPM', 'PIRASO', 'ROYAL SON', 'Eyewearlabs', 'Singco India', 'METRONAUT', 'PIRASO', 'PC STAR', 'Hooper', 'ROYAL SON', 'BKGE', 'Elgator']\n"
     ]
    }
   ],
   "source": [
    "print(productx)"
   ]
  },
  {
   "cell_type": "code",
   "execution_count": 7,
   "id": "a72ef72c-c384-4ffe-94f7-dd9881c1a713",
   "metadata": {},
   "outputs": [
    {
     "data": {
      "text/html": [
       "<div>\n",
       "<style scoped>\n",
       "    .dataframe tbody tr th:only-of-type {\n",
       "        vertical-align: middle;\n",
       "    }\n",
       "\n",
       "    .dataframe tbody tr th {\n",
       "        vertical-align: top;\n",
       "    }\n",
       "\n",
       "    .dataframe thead th {\n",
       "        text-align: right;\n",
       "    }\n",
       "</style>\n",
       "<table border=\"1\" class=\"dataframe\">\n",
       "  <thead>\n",
       "    <tr style=\"text-align: right;\">\n",
       "      <th></th>\n",
       "      <th>Product</th>\n",
       "    </tr>\n",
       "  </thead>\n",
       "  <tbody>\n",
       "    <tr>\n",
       "      <th>0</th>\n",
       "      <td>ROZZETTA CRAFT</td>\n",
       "    </tr>\n",
       "    <tr>\n",
       "      <th>1</th>\n",
       "      <td>Royaltail</td>\n",
       "    </tr>\n",
       "    <tr>\n",
       "      <th>2</th>\n",
       "      <td>PIRASO</td>\n",
       "    </tr>\n",
       "    <tr>\n",
       "      <th>3</th>\n",
       "      <td>ROYAL SON</td>\n",
       "    </tr>\n",
       "    <tr>\n",
       "      <th>4</th>\n",
       "      <td>PIRASO</td>\n",
       "    </tr>\n",
       "    <tr>\n",
       "      <th>...</th>\n",
       "      <td>...</td>\n",
       "    </tr>\n",
       "    <tr>\n",
       "      <th>75</th>\n",
       "      <td>PROVOGUE</td>\n",
       "    </tr>\n",
       "    <tr>\n",
       "      <th>76</th>\n",
       "      <td>ROYAL SON</td>\n",
       "    </tr>\n",
       "    <tr>\n",
       "      <th>77</th>\n",
       "      <td>ROYAL SON</td>\n",
       "    </tr>\n",
       "    <tr>\n",
       "      <th>78</th>\n",
       "      <td>PIRASO</td>\n",
       "    </tr>\n",
       "    <tr>\n",
       "      <th>79</th>\n",
       "      <td>ROYAL SON</td>\n",
       "    </tr>\n",
       "  </tbody>\n",
       "</table>\n",
       "<p>80 rows × 1 columns</p>\n",
       "</div>"
      ],
      "text/plain": [
       "           Product\n",
       "0   ROZZETTA CRAFT\n",
       "1        Royaltail\n",
       "2           PIRASO\n",
       "3        ROYAL SON\n",
       "4           PIRASO\n",
       "..             ...\n",
       "75        PROVOGUE\n",
       "76       ROYAL SON\n",
       "77       ROYAL SON\n",
       "78          PIRASO\n",
       "79       ROYAL SON\n",
       "\n",
       "[80 rows x 1 columns]"
      ]
     },
     "execution_count": 7,
     "metadata": {},
     "output_type": "execute_result"
    }
   ],
   "source": [
    "dt4 = pd.DataFrame({'Product':productx})\n",
    "dt4"
   ]
  },
  {
   "cell_type": "code",
   "execution_count": 8,
   "id": "d67af040-207f-435f-93bd-dd809a8aba55",
   "metadata": {},
   "outputs": [
    {
     "name": "stdout",
     "output_type": "stream",
     "text": [
      "Question 5\n"
     ]
    }
   ],
   "source": [
    "print('Question 5')"
   ]
  },
  {
   "cell_type": "code",
   "execution_count": 2,
   "id": "d9a7cd31-ff88-465b-b7a0-bd07cdcb31fb",
   "metadata": {},
   "outputs": [],
   "source": [
    "driver5 = webdriver.Chrome()\n",
    "driver5.get('https://www.flipkart.com/apple-iphone-11-black-64-gb/product-reviews/itm4e5041ba101fd?pid=MOBFWQ6BXGJCEYNY&lid=LSTMOBFWQ6BXGJCEYNYZXSHRJ&market')\n",
    "time.sleep(5)\n"
   ]
  },
  {
   "cell_type": "code",
   "execution_count": 3,
   "id": "d2d45ba9-0520-4c93-8471-20c9784311b2",
   "metadata": {},
   "outputs": [],
   "source": [
    "product_runs = driver5.find_elements(By.XPATH, '//div[@class=\"_3LWZlK _1BLPMq\"]')\n",
    "ratingx = []\n",
    "\n",
    "# Iterate over the elements and extract text\n",
    "for product_run in product_runs:\n",
    "    rating = product_run.text.strip()\n",
    "    ratingx.append(rating)"
   ]
  },
  {
   "cell_type": "code",
   "execution_count": 4,
   "id": "edb7ed6f-d658-4d21-80fc-d9628d545a97",
   "metadata": {},
   "outputs": [
    {
     "name": "stdout",
     "output_type": "stream",
     "text": [
      "['5', '5', '5', '5', '5', '5', '5', '5', '5', '5']\n"
     ]
    }
   ],
   "source": [
    "print(ratingx)"
   ]
  },
  {
   "cell_type": "code",
   "execution_count": 5,
   "id": "9a67e7a4-2048-44f5-b474-5f726ee179b9",
   "metadata": {},
   "outputs": [],
   "source": [
    "product_sum = driver5.find_elements(By.XPATH, '//div[@class=\"row\"]//p')\n",
    "store = []\n",
    "for item in product_sum:\n",
    "    summary = item.text.strip()\n",
    "    store.append(summary)\n",
    "    "
   ]
  },
  {
   "cell_type": "code",
   "execution_count": 9,
   "id": "a8bcbe6f-96c1-4898-beef-9c6608cba5de",
   "metadata": {},
   "outputs": [
    {
     "data": {
      "text/html": [
       "<div>\n",
       "<style scoped>\n",
       "    .dataframe tbody tr th:only-of-type {\n",
       "        vertical-align: middle;\n",
       "    }\n",
       "\n",
       "    .dataframe tbody tr th {\n",
       "        vertical-align: top;\n",
       "    }\n",
       "\n",
       "    .dataframe thead th {\n",
       "        text-align: right;\n",
       "    }\n",
       "</style>\n",
       "<table border=\"1\" class=\"dataframe\">\n",
       "  <thead>\n",
       "    <tr style=\"text-align: right;\">\n",
       "      <th></th>\n",
       "      <th>Summary</th>\n",
       "    </tr>\n",
       "  </thead>\n",
       "  <tbody>\n",
       "    <tr>\n",
       "      <th>0</th>\n",
       "      <td>Perfect product!</td>\n",
       "    </tr>\n",
       "    <tr>\n",
       "      <th>1</th>\n",
       "      <td>Kuldeep Kumar</td>\n",
       "    </tr>\n",
       "    <tr>\n",
       "      <th>2</th>\n",
       "      <td>Certified Buyer, Kalka</td>\n",
       "    </tr>\n",
       "    <tr>\n",
       "      <th>3</th>\n",
       "      <td>Apr, 2021</td>\n",
       "    </tr>\n",
       "    <tr>\n",
       "      <th>4</th>\n",
       "      <td>Worth every penny</td>\n",
       "    </tr>\n",
       "    <tr>\n",
       "      <th>5</th>\n",
       "      <td>Abhishek Sachdeva</td>\n",
       "    </tr>\n",
       "    <tr>\n",
       "      <th>6</th>\n",
       "      <td>Certified Buyer, Kurukshetra</td>\n",
       "    </tr>\n",
       "    <tr>\n",
       "      <th>7</th>\n",
       "      <td>Jan, 2020</td>\n",
       "    </tr>\n",
       "    <tr>\n",
       "      <th>8</th>\n",
       "      <td>Best in the market!</td>\n",
       "    </tr>\n",
       "    <tr>\n",
       "      <th>9</th>\n",
       "      <td>Steevan Rattra</td>\n",
       "    </tr>\n",
       "    <tr>\n",
       "      <th>10</th>\n",
       "      <td>Certified Buyer, Ludhiana</td>\n",
       "    </tr>\n",
       "    <tr>\n",
       "      <th>11</th>\n",
       "      <td>Nov, 2019</td>\n",
       "    </tr>\n",
       "    <tr>\n",
       "      <th>12</th>\n",
       "      <td>Terrific</td>\n",
       "    </tr>\n",
       "    <tr>\n",
       "      <th>13</th>\n",
       "      <td>Manish Deshlahare</td>\n",
       "    </tr>\n",
       "    <tr>\n",
       "      <th>14</th>\n",
       "      <td>Certified Buyer, Raipur</td>\n",
       "    </tr>\n",
       "    <tr>\n",
       "      <th>15</th>\n",
       "      <td>Jul, 2020</td>\n",
       "    </tr>\n",
       "    <tr>\n",
       "      <th>16</th>\n",
       "      <td>Classy product</td>\n",
       "    </tr>\n",
       "    <tr>\n",
       "      <th>17</th>\n",
       "      <td>Vishnu Ramakrishnan</td>\n",
       "    </tr>\n",
       "    <tr>\n",
       "      <th>18</th>\n",
       "      <td>Certified Buyer, Perinthalmanna</td>\n",
       "    </tr>\n",
       "    <tr>\n",
       "      <th>19</th>\n",
       "      <td>Apr, 2021</td>\n",
       "    </tr>\n",
       "    <tr>\n",
       "      <th>20</th>\n",
       "      <td>Wonderful</td>\n",
       "    </tr>\n",
       "    <tr>\n",
       "      <th>21</th>\n",
       "      <td>Flipkart Customer</td>\n",
       "    </tr>\n",
       "    <tr>\n",
       "      <th>22</th>\n",
       "      <td>Certified Buyer, Pune</td>\n",
       "    </tr>\n",
       "    <tr>\n",
       "      <th>23</th>\n",
       "      <td>Jan, 2021</td>\n",
       "    </tr>\n",
       "    <tr>\n",
       "      <th>24</th>\n",
       "      <td>Terrific purchase</td>\n",
       "    </tr>\n",
       "    <tr>\n",
       "      <th>25</th>\n",
       "      <td>Dev</td>\n",
       "    </tr>\n",
       "    <tr>\n",
       "      <th>26</th>\n",
       "      <td>Certified Buyer, Bengaluru</td>\n",
       "    </tr>\n",
       "    <tr>\n",
       "      <th>27</th>\n",
       "      <td>Jun, 2020</td>\n",
       "    </tr>\n",
       "    <tr>\n",
       "      <th>28</th>\n",
       "      <td>Fabulous!</td>\n",
       "    </tr>\n",
       "    <tr>\n",
       "      <th>29</th>\n",
       "      <td>Sakshi Bharti</td>\n",
       "    </tr>\n",
       "    <tr>\n",
       "      <th>30</th>\n",
       "      <td>Certified Buyer, New Delhi</td>\n",
       "    </tr>\n",
       "    <tr>\n",
       "      <th>31</th>\n",
       "      <td>7 months ago</td>\n",
       "    </tr>\n",
       "    <tr>\n",
       "      <th>32</th>\n",
       "      <td>Perfect product!</td>\n",
       "    </tr>\n",
       "    <tr>\n",
       "      <th>33</th>\n",
       "      <td>siva sankar</td>\n",
       "    </tr>\n",
       "    <tr>\n",
       "      <th>34</th>\n",
       "      <td>Certified Buyer, Thorapadi</td>\n",
       "    </tr>\n",
       "    <tr>\n",
       "      <th>35</th>\n",
       "      <td>8 months ago</td>\n",
       "    </tr>\n",
       "    <tr>\n",
       "      <th>36</th>\n",
       "      <td>Awesome</td>\n",
       "    </tr>\n",
       "    <tr>\n",
       "      <th>37</th>\n",
       "      <td>Parker Chetan</td>\n",
       "    </tr>\n",
       "    <tr>\n",
       "      <th>38</th>\n",
       "      <td>Certified Buyer, Margao</td>\n",
       "    </tr>\n",
       "    <tr>\n",
       "      <th>39</th>\n",
       "      <td>May, 2021</td>\n",
       "    </tr>\n",
       "  </tbody>\n",
       "</table>\n",
       "</div>"
      ],
      "text/plain": [
       "                            Summary\n",
       "0                  Perfect product!\n",
       "1                     Kuldeep Kumar\n",
       "2            Certified Buyer, Kalka\n",
       "3                         Apr, 2021\n",
       "4                 Worth every penny\n",
       "5                 Abhishek Sachdeva\n",
       "6      Certified Buyer, Kurukshetra\n",
       "7                         Jan, 2020\n",
       "8               Best in the market!\n",
       "9                    Steevan Rattra\n",
       "10        Certified Buyer, Ludhiana\n",
       "11                        Nov, 2019\n",
       "12                         Terrific\n",
       "13                Manish Deshlahare\n",
       "14          Certified Buyer, Raipur\n",
       "15                        Jul, 2020\n",
       "16                   Classy product\n",
       "17              Vishnu Ramakrishnan\n",
       "18  Certified Buyer, Perinthalmanna\n",
       "19                        Apr, 2021\n",
       "20                        Wonderful\n",
       "21                Flipkart Customer\n",
       "22            Certified Buyer, Pune\n",
       "23                        Jan, 2021\n",
       "24                Terrific purchase\n",
       "25                              Dev\n",
       "26       Certified Buyer, Bengaluru\n",
       "27                        Jun, 2020\n",
       "28                        Fabulous!\n",
       "29                    Sakshi Bharti\n",
       "30       Certified Buyer, New Delhi\n",
       "31                     7 months ago\n",
       "32                 Perfect product!\n",
       "33                      siva sankar\n",
       "34       Certified Buyer, Thorapadi\n",
       "35                     8 months ago\n",
       "36                          Awesome\n",
       "37                    Parker Chetan\n",
       "38          Certified Buyer, Margao\n",
       "39                        May, 2021"
      ]
     },
     "execution_count": 9,
     "metadata": {},
     "output_type": "execute_result"
    }
   ],
   "source": [
    "df5 = pd.DataFrame({'Summary':store})\n",
    "df5\n"
   ]
  },
  {
   "cell_type": "code",
   "execution_count": 10,
   "id": "b43ff9c3-e6f2-47ea-a8ee-a48e4a0297ad",
   "metadata": {},
   "outputs": [
    {
     "data": {
      "text/html": [
       "<div>\n",
       "<style scoped>\n",
       "    .dataframe tbody tr th:only-of-type {\n",
       "        vertical-align: middle;\n",
       "    }\n",
       "\n",
       "    .dataframe tbody tr th {\n",
       "        vertical-align: top;\n",
       "    }\n",
       "\n",
       "    .dataframe thead th {\n",
       "        text-align: right;\n",
       "    }\n",
       "</style>\n",
       "<table border=\"1\" class=\"dataframe\">\n",
       "  <thead>\n",
       "    <tr style=\"text-align: right;\">\n",
       "      <th></th>\n",
       "      <th>Rating</th>\n",
       "    </tr>\n",
       "  </thead>\n",
       "  <tbody>\n",
       "    <tr>\n",
       "      <th>0</th>\n",
       "      <td>5</td>\n",
       "    </tr>\n",
       "    <tr>\n",
       "      <th>1</th>\n",
       "      <td>5</td>\n",
       "    </tr>\n",
       "    <tr>\n",
       "      <th>2</th>\n",
       "      <td>5</td>\n",
       "    </tr>\n",
       "    <tr>\n",
       "      <th>3</th>\n",
       "      <td>5</td>\n",
       "    </tr>\n",
       "    <tr>\n",
       "      <th>4</th>\n",
       "      <td>5</td>\n",
       "    </tr>\n",
       "    <tr>\n",
       "      <th>5</th>\n",
       "      <td>5</td>\n",
       "    </tr>\n",
       "    <tr>\n",
       "      <th>6</th>\n",
       "      <td>5</td>\n",
       "    </tr>\n",
       "    <tr>\n",
       "      <th>7</th>\n",
       "      <td>5</td>\n",
       "    </tr>\n",
       "    <tr>\n",
       "      <th>8</th>\n",
       "      <td>5</td>\n",
       "    </tr>\n",
       "    <tr>\n",
       "      <th>9</th>\n",
       "      <td>5</td>\n",
       "    </tr>\n",
       "  </tbody>\n",
       "</table>\n",
       "</div>"
      ],
      "text/plain": [
       "  Rating\n",
       "0      5\n",
       "1      5\n",
       "2      5\n",
       "3      5\n",
       "4      5\n",
       "5      5\n",
       "6      5\n",
       "7      5\n",
       "8      5\n",
       "9      5"
      ]
     },
     "execution_count": 10,
     "metadata": {},
     "output_type": "execute_result"
    }
   ],
   "source": [
    "df5a = pd.DataFrame({'Rating':ratingx})\n",
    "df5a"
   ]
  },
  {
   "cell_type": "code",
   "execution_count": 11,
   "id": "252a2068-0d01-4cd1-a14d-41cc64858fdb",
   "metadata": {},
   "outputs": [
    {
     "name": "stdout",
     "output_type": "stream",
     "text": [
      "Question Six\n"
     ]
    }
   ],
   "source": [
    "print('Question Six')\n"
   ]
  },
  {
   "cell_type": "code",
   "execution_count": 51,
   "id": "ec41eb89-4dba-40d6-9907-1a41b7dbdece",
   "metadata": {},
   "outputs": [],
   "source": [
    "from selenium.webdriver.common.keys import Keys\n",
    "driver6 = webdriver.Chrome()\n",
    "driver6.get('https://www.flipkart.com/')\n",
    "time.sleep(5)\n",
    "\n",
    "sneakes_type = driver6.find_element(By.XPATH, \"/html/body/div[1]/div/div[1]/div/div/div/div/div[1]/div/div[1]/div/div[1]/div[1]/header/div[1]/div[2]/form/div/div/input\")\n",
    "sneakes_type.send_keys('sneakers')\n",
    "\n",
    "# Simulate pressing the Enter key\n",
    "sneakes_type.send_keys(Keys.RETURN)\n",
    "\n",
    "sneakers_list = driver6.find_elements(By.XPATH, '//div[@class=\"_2WkVRV\"]')\n",
    "sneakersx = []\n",
    "for item in sneakers_list:\n",
    "    snk = item.text.strip()\n",
    "    sneakersx.append(snk)"
   ]
  },
  {
   "cell_type": "code",
   "execution_count": 20,
   "id": "bde44bf6-6326-4a19-a2c9-957ecac1fa64",
   "metadata": {},
   "outputs": [
    {
     "name": "stdout",
     "output_type": "stream",
     "text": [
      "['ATOM', 'ATOM', 'URBANBOX', 'Deals4you', 'aadi', 'BRUTON', 'BERSACHE', 'El Paso', 'MEGPAR', 'RED TAPE', 'RUN SEVEN', 'ATOM', 'RED TAPE', 'aadi', 'RED TAPE', 'Footox', 'ATOM', 'VENDOZ', 'Robbie jones', 'Shoe Lab', 'BERSACHE', 'ATOM', 'RED TAPE', 'RED TAPE', 'HOTSTYLE', 'Robbie jones', 'VENDOZ', 'ATOM', 'PUMA', 'asian', 'ATOM', 'ATOM', 'RED TAPE', 'WHITE WALKERS', 'PUMA', 'JACKRUNNER', 'Kraasa', 'BERSACHE', 'RED TAPE', 'RED TAPE']\n"
     ]
    }
   ],
   "source": [
    "print(sneakersx)"
   ]
  },
  {
   "cell_type": "code",
   "execution_count": 52,
   "id": "840f195c-b18a-4957-93a1-f38aab058b34",
   "metadata": {},
   "outputs": [
    {
     "data": {
      "text/html": [
       "<div>\n",
       "<style scoped>\n",
       "    .dataframe tbody tr th:only-of-type {\n",
       "        vertical-align: middle;\n",
       "    }\n",
       "\n",
       "    .dataframe tbody tr th {\n",
       "        vertical-align: top;\n",
       "    }\n",
       "\n",
       "    .dataframe thead th {\n",
       "        text-align: right;\n",
       "    }\n",
       "</style>\n",
       "<table border=\"1\" class=\"dataframe\">\n",
       "  <thead>\n",
       "    <tr style=\"text-align: right;\">\n",
       "      <th></th>\n",
       "      <th>Sneakers</th>\n",
       "    </tr>\n",
       "  </thead>\n",
       "  <tbody>\n",
       "    <tr>\n",
       "      <th>0</th>\n",
       "      <td>BRUTON</td>\n",
       "    </tr>\n",
       "    <tr>\n",
       "      <th>1</th>\n",
       "      <td>World Wear Footwear</td>\n",
       "    </tr>\n",
       "    <tr>\n",
       "      <th>2</th>\n",
       "      <td>URBANBOX</td>\n",
       "    </tr>\n",
       "    <tr>\n",
       "      <th>3</th>\n",
       "      <td>RED TAPE</td>\n",
       "    </tr>\n",
       "    <tr>\n",
       "      <th>4</th>\n",
       "      <td>RED TAPE</td>\n",
       "    </tr>\n",
       "    <tr>\n",
       "      <th>5</th>\n",
       "      <td>Deals4you</td>\n",
       "    </tr>\n",
       "    <tr>\n",
       "      <th>6</th>\n",
       "      <td>BRUTON</td>\n",
       "    </tr>\n",
       "    <tr>\n",
       "      <th>7</th>\n",
       "      <td>Deals4you</td>\n",
       "    </tr>\n",
       "    <tr>\n",
       "      <th>8</th>\n",
       "      <td>streetLOOK</td>\n",
       "    </tr>\n",
       "    <tr>\n",
       "      <th>9</th>\n",
       "      <td>BRUTON</td>\n",
       "    </tr>\n",
       "    <tr>\n",
       "      <th>10</th>\n",
       "      <td>MEGPAR</td>\n",
       "    </tr>\n",
       "    <tr>\n",
       "      <th>11</th>\n",
       "      <td>Deals4you</td>\n",
       "    </tr>\n",
       "    <tr>\n",
       "      <th>12</th>\n",
       "      <td>RED TAPE</td>\n",
       "    </tr>\n",
       "    <tr>\n",
       "      <th>13</th>\n",
       "      <td>RED TAPE</td>\n",
       "    </tr>\n",
       "    <tr>\n",
       "      <th>14</th>\n",
       "      <td>RED TAPE</td>\n",
       "    </tr>\n",
       "    <tr>\n",
       "      <th>15</th>\n",
       "      <td>RED TAPE</td>\n",
       "    </tr>\n",
       "    <tr>\n",
       "      <th>16</th>\n",
       "      <td>BRUTON</td>\n",
       "    </tr>\n",
       "    <tr>\n",
       "      <th>17</th>\n",
       "      <td>aadi</td>\n",
       "    </tr>\n",
       "    <tr>\n",
       "      <th>18</th>\n",
       "      <td>RED TAPE</td>\n",
       "    </tr>\n",
       "    <tr>\n",
       "      <th>19</th>\n",
       "      <td>Shoe Lab</td>\n",
       "    </tr>\n",
       "    <tr>\n",
       "      <th>20</th>\n",
       "      <td>Krors</td>\n",
       "    </tr>\n",
       "    <tr>\n",
       "      <th>21</th>\n",
       "      <td>aadi</td>\n",
       "    </tr>\n",
       "    <tr>\n",
       "      <th>22</th>\n",
       "      <td>RED TAPE</td>\n",
       "    </tr>\n",
       "    <tr>\n",
       "      <th>23</th>\n",
       "      <td>PUMA</td>\n",
       "    </tr>\n",
       "    <tr>\n",
       "      <th>24</th>\n",
       "      <td>RED TAPE</td>\n",
       "    </tr>\n",
       "    <tr>\n",
       "      <th>25</th>\n",
       "      <td>U.S. POLO ASSN.</td>\n",
       "    </tr>\n",
       "    <tr>\n",
       "      <th>26</th>\n",
       "      <td>Deals4you</td>\n",
       "    </tr>\n",
       "    <tr>\n",
       "      <th>27</th>\n",
       "      <td>JK PORT</td>\n",
       "    </tr>\n",
       "    <tr>\n",
       "      <th>28</th>\n",
       "      <td>PUMA</td>\n",
       "    </tr>\n",
       "    <tr>\n",
       "      <th>29</th>\n",
       "      <td>Robbie jones</td>\n",
       "    </tr>\n",
       "    <tr>\n",
       "      <th>30</th>\n",
       "      <td>ATOM</td>\n",
       "    </tr>\n",
       "    <tr>\n",
       "      <th>31</th>\n",
       "      <td>Krors</td>\n",
       "    </tr>\n",
       "    <tr>\n",
       "      <th>32</th>\n",
       "      <td>RED TAPE</td>\n",
       "    </tr>\n",
       "    <tr>\n",
       "      <th>33</th>\n",
       "      <td>aadi</td>\n",
       "    </tr>\n",
       "    <tr>\n",
       "      <th>34</th>\n",
       "      <td>aadi</td>\n",
       "    </tr>\n",
       "    <tr>\n",
       "      <th>35</th>\n",
       "      <td>streetLOOK</td>\n",
       "    </tr>\n",
       "    <tr>\n",
       "      <th>36</th>\n",
       "      <td>Krors</td>\n",
       "    </tr>\n",
       "    <tr>\n",
       "      <th>37</th>\n",
       "      <td>Krors</td>\n",
       "    </tr>\n",
       "    <tr>\n",
       "      <th>38</th>\n",
       "      <td>Robbie jones</td>\n",
       "    </tr>\n",
       "    <tr>\n",
       "      <th>39</th>\n",
       "      <td>RED TAPE</td>\n",
       "    </tr>\n",
       "  </tbody>\n",
       "</table>\n",
       "</div>"
      ],
      "text/plain": [
       "               Sneakers\n",
       "0                BRUTON\n",
       "1   World Wear Footwear\n",
       "2              URBANBOX\n",
       "3              RED TAPE\n",
       "4              RED TAPE\n",
       "5             Deals4you\n",
       "6                BRUTON\n",
       "7             Deals4you\n",
       "8            streetLOOK\n",
       "9                BRUTON\n",
       "10               MEGPAR\n",
       "11            Deals4you\n",
       "12             RED TAPE\n",
       "13             RED TAPE\n",
       "14             RED TAPE\n",
       "15             RED TAPE\n",
       "16               BRUTON\n",
       "17                 aadi\n",
       "18             RED TAPE\n",
       "19             Shoe Lab\n",
       "20                Krors\n",
       "21                 aadi\n",
       "22             RED TAPE\n",
       "23                 PUMA\n",
       "24             RED TAPE\n",
       "25      U.S. POLO ASSN.\n",
       "26            Deals4you\n",
       "27              JK PORT\n",
       "28                 PUMA\n",
       "29         Robbie jones\n",
       "30                 ATOM\n",
       "31                Krors\n",
       "32             RED TAPE\n",
       "33                 aadi\n",
       "34                 aadi\n",
       "35           streetLOOK\n",
       "36                Krors\n",
       "37                Krors\n",
       "38         Robbie jones\n",
       "39             RED TAPE"
      ]
     },
     "execution_count": 52,
     "metadata": {},
     "output_type": "execute_result"
    }
   ],
   "source": [
    "df6 = pd.DataFrame({'Sneakers':sneakersx})\n",
    "df6"
   ]
  },
  {
   "cell_type": "code",
   "execution_count": null,
   "id": "ae151f6c-0385-4158-9ecd-2531e5f979f1",
   "metadata": {},
   "outputs": [],
   "source": []
  }
 ],
 "metadata": {
  "kernelspec": {
   "display_name": "Python 3 (ipykernel)",
   "language": "python",
   "name": "python3"
  },
  "language_info": {
   "codemirror_mode": {
    "name": "ipython",
    "version": 3
   },
   "file_extension": ".py",
   "mimetype": "text/x-python",
   "name": "python",
   "nbconvert_exporter": "python",
   "pygments_lexer": "ipython3",
   "version": "3.11.4"
  }
 },
 "nbformat": 4,
 "nbformat_minor": 5
}
