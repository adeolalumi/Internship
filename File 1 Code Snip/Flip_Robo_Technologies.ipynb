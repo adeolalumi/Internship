{
 "cells": [
  {
   "cell_type": "code",
   "execution_count": 2,
   "id": "6e9dc0d0",
   "metadata": {},
   "outputs": [
    {
     "name": "stdout",
     "output_type": "stream",
     "text": [
      "15\n"
     ]
    }
   ],
   "source": [
    "# Question 1\n",
    "\n",
    "def func(a, b):\n",
    "    return b if a == 0 else func(b % a, a)\n",
    "print(func(30, 75))"
   ]
  },
  {
   "cell_type": "code",
   "execution_count": 3,
   "id": "1c271167",
   "metadata": {},
   "outputs": [
    {
     "name": "stdout",
     "output_type": "stream",
     "text": [
      "<class 'filter'>\n"
     ]
    }
   ],
   "source": [
    "# Question 2\n",
    "\n",
    "numbers = (4, 7, 19, 2, 89, 45, 72, 22)\n",
    "sorted_numbers = sorted(numbers)\n",
    "even = lambda a: a % 2 == 0\n",
    "even_numbers = filter(even, sorted_numbers)\n",
    "print(type(even_numbers))"
   ]
  },
  {
   "cell_type": "code",
   "execution_count": 5,
   "id": "b5b022a0",
   "metadata": {},
   "outputs": [
    {
     "name": "stdout",
     "output_type": "stream",
     "text": [
      "208\n"
     ]
    }
   ],
   "source": [
    "# Question 7\n",
    "\n",
    "print(4**3 + (7 + 5)**(1 + 1))"
   ]
  },
  {
   "cell_type": "code",
   "execution_count": 7,
   "id": "e275be49",
   "metadata": {},
   "outputs": [
    {
     "name": "stdout",
     "output_type": "stream",
     "text": [
      "Enterprise Picard\n",
      "Voyager Janeway\n",
      "Defiant Sisko\n"
     ]
    }
   ],
   "source": [
    "# Question 16\n",
    "captains = { \"Enterprise\": \"Picard\", \"Voyager\": \"Janeway\", \"Defiant\": \"Sisko\" }\n",
    "for ship, captain in captains.items():\n",
    "    print(ship, captain)"
   ]
  },
  {
   "cell_type": "code",
   "execution_count": 8,
   "id": "3f5694c3",
   "metadata": {},
   "outputs": [
    {
     "name": "stdout",
     "output_type": "stream",
     "text": [
      "Enterprise Picard\n",
      "Voyager Janeway\n",
      "Defiant Sisko\n"
     ]
    }
   ],
   "source": [
    "# Question 17\n",
    "captains = { \"Enterprise\": \"Picard\", \"Voyager\": \"Janeway\", \"Defiant\": \"Sisko\" }\n",
    "for ship in captains:\n",
    "    print(ship, captains[ship])"
   ]
  },
  {
   "cell_type": "code",
   "execution_count": 10,
   "id": "79c43629",
   "metadata": {},
   "outputs": [
    {
     "name": "stdout",
     "output_type": "stream",
     "text": [
      "{}\n"
     ]
    }
   ],
   "source": [
    "captains = {}\n",
    "print(captain)"
   ]
  },
  {
   "cell_type": "code",
   "execution_count": 11,
   "id": "ab971554",
   "metadata": {},
   "outputs": [
    {
     "name": "stdout",
     "output_type": "stream",
     "text": [
      "{'Enterprise': 'Picard', 'Voyager': 'Janeway', 'Defiant': 'Sisko'}\n"
     ]
    }
   ],
   "source": [
    "# Question 18\n",
    "captains[\"Enterprise\"] = \"Picard\"\n",
    "captains[\"Voyager\"] = \"Janeway\"\n",
    "captains[\"Defiant\"] = \"Sisko\"\n",
    "print(captains)"
   ]
  },
  {
   "cell_type": "code",
   "execution_count": 12,
   "id": "b55fe3a9",
   "metadata": {},
   "outputs": [
    {
     "name": "stdout",
     "output_type": "stream",
     "text": [
      "The Enterprise is captained by Picard.\n",
      "The Voyager is captained by Janeway.\n",
      "The Defiant is captained by Sisko.\n"
     ]
    }
   ],
   "source": [
    "# Question 19\n",
    "for ship, captains in captains.items():\n",
    "    print(f\"The {ship} is captained by {captains}.\")"
   ]
  },
  {
   "cell_type": "code",
   "execution_count": 14,
   "id": "54993232",
   "metadata": {},
   "outputs": [
    {
     "name": "stdout",
     "output_type": "stream",
     "text": [
      "{'Enterprise': 'Picard', 'Voyager': 'Janeway', 'Defiant': 'Sisko'}\n"
     ]
    }
   ],
   "source": [
    "# Question 20\n",
    "captains = { \"Enterprise\": \"Picard\", \"Voyager\": \"Janeway\", \"Defiant\": \"Sisko\", \"Discovery\": \"unknown\", }\n",
    "del captains[\"Discovery\"]\n",
    "print(captains)"
   ]
  },
  {
   "cell_type": "code",
   "execution_count": null,
   "id": "cee590f5",
   "metadata": {},
   "outputs": [],
   "source": []
  }
 ],
 "metadata": {
  "kernelspec": {
   "display_name": "Python 3 (ipykernel)",
   "language": "python",
   "name": "python3"
  },
  "language_info": {
   "codemirror_mode": {
    "name": "ipython",
    "version": 3
   },
   "file_extension": ".py",
   "mimetype": "text/x-python",
   "name": "python",
   "nbconvert_exporter": "python",
   "pygments_lexer": "ipython3",
   "version": "3.9.16"
  }
 },
 "nbformat": 4,
 "nbformat_minor": 5
}
