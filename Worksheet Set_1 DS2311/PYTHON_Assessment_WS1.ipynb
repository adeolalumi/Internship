{
 "cells": [
  {
   "cell_type": "code",
   "execution_count": 2,
   "id": "cdb7f47a",
   "metadata": {},
   "outputs": [
    {
     "name": "stdout",
     "output_type": "stream",
     "text": [
      "Enter a number: 7\n",
      "The factorial of 7 is: 5040\n"
     ]
    }
   ],
   "source": [
    "# 10. Write a python program to find the factorial of a number.\n",
    "\n",
    "def factorial(n):\n",
    "    if n == 0 or n == 1:\n",
    "        return 1\n",
    "    else:\n",
    "        return n * factorial(n - 1)\n",
    "\n",
    "# Get user input for the number\n",
    "num = int(input(\"Enter a number: \"))\n",
    "\n",
    "# Checking if the input is negative\n",
    "if num < 0:\n",
    "    print(\"Factorial is not defined for negative numbers.\")\n",
    "else:\n",
    "    result = factorial(num)\n",
    "    print(f\"The factorial of {num} is: {result}\")\n"
   ]
  },
  {
   "cell_type": "code",
   "execution_count": 5,
   "id": "71d88b46",
   "metadata": {},
   "outputs": [
    {
     "name": "stdout",
     "output_type": "stream",
     "text": [
      "Enter a number: 8\n",
      "8 is a composite number.\n"
     ]
    }
   ],
   "source": [
    "# 12. Write a python program to find whether a number is prime or composite.\n",
    "def prime(num):\n",
    "    if num < 2:\n",
    "        return False\n",
    "    for i in range(2, int(num**0.5) + 1):\n",
    "        if num % i == 0:\n",
    "            return False\n",
    "    return True\n",
    "\n",
    "# Taking input from the user\n",
    "number = int(input(\"Enter a number: \"))\n",
    "\n",
    "# Checking if the number is prime or composite\n",
    "if prime(number):\n",
    "    print(f\"{number} is a prime number.\")\n",
    "else:\n",
    "    print(f\"{number} is a composite number.\")"
   ]
  },
  {
   "cell_type": "code",
   "execution_count": null,
   "id": "b3eb240d",
   "metadata": {},
   "outputs": [],
   "source": [
    "# 13. Write a python program to check whether a given string is palindrome or not.\n",
    "\n",
    "def palindrome(s):\n",
    "    # Remove spaces and convert to lowercase for case-insensitive comparison\n",
    "    s = s.replace(\" \", \"\").lower()\n",
    "    # Compare the string with its reverse\n",
    "    return s == s[::-1]\n",
    "\n",
    "# Taking input from the user\n",
    "string = input(\"Enter a string: \")\n",
    "\n",
    "# Checking if the string is a palindrome\n",
    "if palindrome(string):\n",
    "    print(f\"{string} is a palindrome.\")\n",
    "else:\n",
    "    print(f\"{string} is not a palindrome.\")\n"
   ]
  },
  {
   "cell_type": "code",
   "execution_count": 8,
   "id": "98cdb152",
   "metadata": {},
   "outputs": [
    {
     "name": "stdout",
     "output_type": "stream",
     "text": [
      "Enter the length of the first side: 56\n",
      "Enter the length of the second side: 67\n",
      "The length of the hypotenuse is: 87.32124598286491\n"
     ]
    }
   ],
   "source": [
    "# 14. Write a Python program to get the third side of right-angled triangle from two given sides\n",
    "\n",
    "def find_hypotenuse(side1, side2):\n",
    "    # Calculate the hypotenuse using the Pythagorean theorem\n",
    "    hypotenuse = (side1**2 + side2**2)**0.5\n",
    "    return hypotenuse\n",
    "\n",
    "# Taking input from the user for the two sides\n",
    "side1 = float(input(\"Enter the length of the first side: \"))\n",
    "side2 = float(input(\"Enter the length of the second side: \"))\n",
    "\n",
    "# Checking if the entered sides can form a right-angled triangle\n",
    "if side1 <= 0 or side2 <= 0:\n",
    "    print(\"Invalid input. Side lengths must be positive.\")\n",
    "else:\n",
    "    # Calculating the hypotenuse\n",
    "    hypotenuse = find_hypotenuse(side1, side2)\n",
    "    \n",
    "    # Displaying the result\n",
    "    print(f\"The length of the hypotenuse is: {hypotenuse}\")\n"
   ]
  },
  {
   "cell_type": "code",
   "execution_count": 1,
   "id": "0774ee3e",
   "metadata": {},
   "outputs": [
    {
     "name": "stdout",
     "output_type": "stream",
     "text": [
      "Enter a string: the is is a thing about you you that make me laugh\n",
      "Character frequencies:\n",
      "'t': 5\n",
      "'h': 4\n",
      "'e': 3\n",
      "'i': 3\n",
      "'s': 2\n",
      "'a': 5\n",
      "'n': 1\n",
      "'g': 2\n",
      "'b': 1\n",
      "'o': 3\n",
      "'u': 4\n",
      "'y': 2\n",
      "'m': 2\n",
      "'k': 1\n",
      "'l': 1\n"
     ]
    }
   ],
   "source": [
    "# 15. Write a python program to print the frequency of each of the characters present in a given string.\n",
    "\n",
    "import re\n",
    "\n",
    "def character_frequency(string):\n",
    "    # Using regular expression to find all characters in the string\n",
    "    characters = re.findall(r'\\S', string)\n",
    "\n",
    "    # Creating an empty dictionary to store character frequencies\n",
    "    freq_dict = {}\n",
    "\n",
    "    # Counting the frequency of each character\n",
    "    for char in characters:\n",
    "        if char in freq_dict:\n",
    "            freq_dict[char] += 1\n",
    "        else:\n",
    "            freq_dict[char] = 1\n",
    "\n",
    "    # Printing the frequency of each character\n",
    "    print(\"Character frequencies:\")\n",
    "    for char, frequency in freq_dict.items():\n",
    "        print(f\"'{char}': {frequency}\")\n",
    "\n",
    "# Taking input from the user\n",
    "input_string = input(\"Enter a string: \")\n",
    "\n",
    "# Calling the function to calculate and print character frequencies using re\n",
    "character_frequency(input_string)\n"
   ]
  },
  {
   "cell_type": "code",
   "execution_count": null,
   "id": "22857d7c",
   "metadata": {},
   "outputs": [],
   "source": []
  }
 ],
 "metadata": {
  "kernelspec": {
   "display_name": "Python 3 (ipykernel)",
   "language": "python",
   "name": "python3"
  },
  "language_info": {
   "codemirror_mode": {
    "name": "ipython",
    "version": 3
   },
   "file_extension": ".py",
   "mimetype": "text/x-python",
   "name": "python",
   "nbconvert_exporter": "python",
   "pygments_lexer": "ipython3",
   "version": "3.9.16"
  }
 },
 "nbformat": 4,
 "nbformat_minor": 5
}
