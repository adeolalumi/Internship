{
 "cells": [
  {
   "cell_type": "code",
   "execution_count": 2,
   "id": "79eeae36",
   "metadata": {},
   "outputs": [
    {
     "name": "stdout",
     "output_type": "stream",
     "text": [
      "Input Text:  Python Exercises, PHP exercises.\n",
      "Output Text: Python:Exercises::PHP:exercises:\n"
     ]
    }
   ],
   "source": [
    "# Question 1- Write a Python program to replace all occurrences of a space, comma, or dot with a colon.\n",
    "import re\n",
    "\n",
    "def replace(inputTx):\n",
    "    output_text = re.sub(r'[ ,.]', ':', inputTx)\n",
    "    return output_text\n",
    "\n",
    "# Example\n",
    "Sample_Text = 'Python Exercises, PHP exercises.'\n",
    "\n",
    "# print output\n",
    "result = replace(Sample_Text)\n",
    "print(\"Input Text: \", Sample_Text)\n",
    "print(\"Output Text:\", result)\n",
    "    \n",
    "\n",
    "\n",
    "\n"
   ]
  },
  {
   "cell_type": "code",
   "execution_count": 6,
   "id": "d83690a5",
   "metadata": {
    "scrolled": true
   },
   "outputs": [
    {
     "name": "stdout",
     "output_type": "stream",
     "text": [
      "         SUMMARY\n",
      "0    hello world\n",
      "1     XXXXX test\n",
      "2  four five six\n"
     ]
    }
   ],
   "source": [
    "#Question 2-  Create a dataframe using the dictionary below and remove everything (commas (,), !, XXXX, ;, etc.) from the columns except words.\n",
    "\n",
    "import pandas as pd\n",
    "import re\n",
    "\n",
    "# Input dictionary\n",
    "Dictionary = {'SUMMARY': ['hello, world!', 'XXXXX test', '123four, five:; six...']}\n",
    "df = pd.DataFrame(Dictionary)\n",
    "\n",
    "# Define function to filter the text\n",
    "def clean_text(column):\n",
    "    filtered_text = column.apply(lambda x: re.sub(r'[^a-zA-Z\\s]', '', x))\n",
    "    return filtered_text\n",
    "\n",
    "# Apply clean_text function to the 'SUMMARY' column\n",
    "df['SUMMARY'] = clean_text(df['SUMMARY'])\n",
    "\n",
    "# Display the result\n",
    "print(df)\n"
   ]
  },
  {
   "cell_type": "code",
   "execution_count": 7,
   "id": "7cff74d7",
   "metadata": {},
   "outputs": [
    {
     "name": "stdout",
     "output_type": "stream",
     "text": [
      "['Create', 'function', 'python', 'find', 'words', 'that', 'least', 'characters']\n"
     ]
    }
   ],
   "source": [
    "# Question 3 Create a function in python to find all words that are at least 4 characters long in a string. The use of the re.compile() method is mandatory.\n",
    "import re\n",
    "\n",
    "def searchWord(inputItem):\n",
    "    pattern = re.compile(r'\\b\\w{4,}\\b')\n",
    "    \n",
    "    # Using findall method\n",
    "    result = pattern.findall(inputItem)\n",
    "    return result\n",
    "\n",
    "inputItem = 'Create a function in python to find all words that are at least 4 characters'\n",
    "\n",
    "wordCount = searchWord(inputItem)\n",
    "\n",
    "print(wordCount)"
   ]
  },
  {
   "cell_type": "code",
   "execution_count": 9,
   "id": "408d8810",
   "metadata": {},
   "outputs": [
    {
     "name": "stdout",
     "output_type": "stream",
     "text": [
      "['find', 'all', 'three', 'four', 'and', 'five', 'words', 'The', 'use', 'the']\n"
     ]
    }
   ],
   "source": [
    "# Question 4- Create a function in python to find all three, four, and five character words in a string. The use of the re.compile() method is mandatory.\n",
    "import re\n",
    "\n",
    "def wordSearch(inputString):\n",
    "    pattern2 = re.compile(r'\\b\\w{3,5}\\b')\n",
    "    # Using find all method\n",
    "    result = pattern2.findall(inputString)\n",
    "    return result\n",
    "\n",
    "inputString = 'Create a function in python to find all three, four, and five character words in a string. The use of the re.compile() method is mandatory'\n",
    "countWord = wordSearch(inputString)\n",
    "print(countWord)\n",
    "    "
   ]
  },
  {
   "cell_type": "code",
   "execution_count": 10,
   "id": "2b301aee",
   "metadata": {},
   "outputs": [
    {
     "name": "stdout",
     "output_type": "stream",
     "text": [
      "['example .com', 'hr@fliprobo .com', 'github .com', 'Hello Data Science World', 'Data Scientist']\n"
     ]
    }
   ],
   "source": [
    "# Question 5- Create a function in Python to remove the parenthesis in a list of strings. The use of the re.compile() method is mandatory.\n",
    "\n",
    "import re\n",
    "def removeBracket(sampleText):\n",
    "    pattern = re.compile(r'\\(|\\)')\n",
    "    \n",
    "    result = [pattern.sub('',s) for s in sampleText]\n",
    "    \n",
    "    return result\n",
    "\n",
    "\n",
    "\n",
    "# Sample string: \n",
    "sampleText = [\"example (.com)\", \"hr@fliprobo (.com)\", \"github (.com)\", \"Hello (Data Science World)\", \"Data (Scientist)\"]\n",
    "\n",
    "# Calling the function\n",
    "\n",
    "display = removeBracket(sampleText)\n",
    "print(display)"
   ]
  },
  {
   "cell_type": "code",
   "execution_count": 11,
   "id": "b48ee5e6",
   "metadata": {},
   "outputs": [
    {
     "name": "stdout",
     "output_type": "stream",
     "text": [
      "['example ', 'hr@fliprobo ', 'github ', 'Hello ', 'Data ']\n"
     ]
    }
   ],
   "source": [
    "# Question 6- Write a python program to remove the parenthesis area from the text stored in the text file using Regular Expression.\n",
    "import re\n",
    "\n",
    "def rMoveb(tList):\n",
    "    pattern = re.compile(r'\\([^)]*\\)')\n",
    "    \n",
    "    engine = [pattern.sub('', item) for item in tList]\n",
    "    return engine\n",
    "#Sample test\n",
    "sText = [\"example (.com)\", \"hr@fliprobo (.com)\", \"github (.com)\", \"Hello (Data Science World)\", \"Data (Scientist)\"]\n",
    "\n",
    "#Calling function\n",
    "output = rMoveb(sText)\n",
    "print(output)"
   ]
  },
  {
   "cell_type": "code",
   "execution_count": 13,
   "id": "0cdeecab",
   "metadata": {},
   "outputs": [
    {
     "name": "stdout",
     "output_type": "stream",
     "text": [
      "IOREIP\n"
     ]
    }
   ],
   "source": [
    "# Question 7- Write a regular expression in Python to split a string into uppercase letters.\n",
    "\n",
    "import re\n",
    "\n",
    "def upperCase(sList):\n",
    "    #Using find all to identify upperclass\n",
    "    slitUp = re.findall(r'[A-Z]',sList)\n",
    "    \n",
    "    engine = ''.join(slitUp)\n",
    "    return engine\n",
    "\n",
    "sTxt = 'ImportanceOfRegularExpressionsInPython'\n",
    "output1 = upperCase(sTxt)\n",
    "print(output1)"
   ]
  },
  {
   "cell_type": "code",
   "execution_count": 37,
   "id": "f4b88a38",
   "metadata": {},
   "outputs": [
    {
     "name": "stdout",
     "output_type": "stream",
     "text": [
      "RegularExpression 1IsAn 2ImportantTopic 3InPython\n"
     ]
    }
   ],
   "source": [
    "#Question 8- Create a function in python to insert spaces between words starting with numbers.\n",
    "import re\n",
    "\n",
    "def insertSpace(textString):\n",
    "    # Use re.sub to insert a space after numbers\n",
    "    result = re.sub(r'(?<=[a-zA-Z])(?=\\d)', ' ', textString)\n",
    "    return result\n",
    "\n",
    "# Example usage:\n",
    "sText = \"RegularExpression1IsAn2ImportantTopic3InPython\"\n",
    "\n",
    "# Calling the function\n",
    "result_with_spaces = insertSpace(sText)\n",
    "print(result_with_spaces)\n"
   ]
  },
  {
   "cell_type": "code",
   "execution_count": 35,
   "id": "eac9695f",
   "metadata": {},
   "outputs": [
    {
     "name": "stdout",
     "output_type": "stream",
     "text": [
      "RegularExpression 1 IsAn 2 ImportantTopic 3 InPython\n"
     ]
    }
   ],
   "source": [
    "# Question 9- Create a function in python to insert spaces between words starting with capital letters or with numbers.\n",
    "import re\n",
    "\n",
    "\n",
    "def spaceNum(textR):\n",
    "    # Use re.sub to insert a space after numbers\n",
    "    result = re.sub(r'(?<=[a-zA-Z])(?=\\d)|(?<=\\d)(?=[a-zA-Z])', ' ', textR)\n",
    "    return result\n",
    "\n",
    "# Example usage:\n",
    "text_input = 'RegularExpression1IsAn2ImportantTopic3InPython'\n",
    "\n",
    "# Calling the function\n",
    "output = spaceNum(text_input)\n",
    "print(output)\n"
   ]
  },
  {
   "cell_type": "code",
   "execution_count": 38,
   "id": "d5f20c1d",
   "metadata": {},
   "outputs": [
    {
     "name": "stdout",
     "output_type": "stream",
     "text": [
      "       Country first_five_letters\n",
      "0  Switzerland             Switze\n",
      "1      Iceland             Icelan\n",
      "2      Denmark             Denmar\n",
      "3       Norway             Norway\n",
      "4       Canada             Canada\n"
     ]
    }
   ],
   "source": [
    "# Question 10- Use the github link below to read the data and create a dataframe. After creating the dataframe extract the first 6 letters of each country and store in the dataframe under a new column called first_five_letters.\n",
    "import pandas as pd\n",
    "\n",
    "# GitHub link to the dataset\n",
    "github_link = \"https://raw.githubusercontent.com/dsrscientist/DSData/master/happiness_score_dataset.csv\"\n",
    "\n",
    "# Converting to a DataFrame\n",
    "df = pd.read_csv(github_link)\n",
    "\n",
    "# Getting the first 6 letters of each country & store in a \n",
    "df['first_five_letters'] = df['Country'].str[:6]\n",
    "\n",
    "# Display the DataFrame with the new column\n",
    "print(df[['Country', 'first_five_letters']].head())"
   ]
  },
  {
   "cell_type": "code",
   "execution_count": 45,
   "id": "6a6046c2",
   "metadata": {},
   "outputs": [
    {
     "name": "stdout",
     "output_type": "stream",
     "text": [
      "The string \"Hello123_World\" matches\n"
     ]
    }
   ],
   "source": [
    "#Question 11- Write a Python program to match a string that contains only upper and lowercase letters, numbers, and underscores.\n",
    "import re\n",
    "# Define the model to match the characters\n",
    "def matCh(sText):\n",
    "    pattern = re.compile(r'^[a-zA-Z0-9_]+$')\n",
    "    return bool(pattern.match(sText))\n",
    "#Sample Text\n",
    "sText = 'Hello123_World'\n",
    "if matCh(sText):\n",
    "    print(f'The string \"{sText}\" matches')\n",
    "else:\n",
    "    print(f'The string \"{sText}\" does not match')\n"
   ]
  },
  {
   "cell_type": "code",
   "execution_count": 52,
   "id": "cb6981c7",
   "metadata": {},
   "outputs": [
    {
     "name": "stdout",
     "output_type": "stream",
     "text": [
      "The string \"123example\" starts with the number 123.\n"
     ]
    }
   ],
   "source": [
    "# Question 12- Write a Python program where a string will start with a specific number. \n",
    "import re\n",
    "\n",
    "def startNum(testS, speciNum):\n",
    "    pattern = re.compile(f'^{speciNum}')\n",
    "    return bool(pattern.match(str(speciNum)))\n",
    "\n",
    "# Example usage:\n",
    "testS = \"123example\"\n",
    "\n",
    "speciNum = 123\n",
    "\n",
    "if startNum(testS, specific_number):\n",
    "    print(f'The string \"{testS}\" starts with the number {speciNum}.')\n",
    "else:\n",
    "    print(f'The string \"{testS}\" does not start with the number {speciNum}.')\n"
   ]
  },
  {
   "cell_type": "code",
   "execution_count": 53,
   "id": "bce9ce24",
   "metadata": {},
   "outputs": [
    {
     "name": "stdout",
     "output_type": "stream",
     "text": [
      "IP address without leading zeros: 192.168.1.1\n"
     ]
    }
   ],
   "source": [
    "# Question 13- Write a Python program to remove leading zeros from an IP address\n",
    "\n",
    "import re\n",
    "\n",
    "def removeZeros(ipAdd):\n",
    "    # Use re.sub to remove leading zeros from each segment of the IP address\n",
    "    result = re.sub(r'\\b0+(\\d+)\\b', r'\\1', ipAdd)\n",
    "    return result\n",
    "\n",
    "# Example usage:\n",
    "ipAdd = \"192.168.001.001\"\n",
    "\n",
    "# Call the function and print the result\n",
    "resultZeros = removeZeros(ipAdd)\n",
    "print(\"IP address without leading zeros:\", resultZeros)\n"
   ]
  },
  {
   "cell_type": "code",
   "execution_count": 61,
   "id": "d59b362c",
   "metadata": {},
   "outputs": [
    {
     "name": "stdout",
     "output_type": "stream",
     "text": [
      "Match Date <re.Match object; span=(3, 19), match='August 15th 1947'>\n"
     ]
    }
   ],
   "source": [
    "# Question 14- Write a regular expression in python to match a date string in the form of Month name followed by day number and year stored in a text file.\n",
    "import re\n",
    "# Defining date match\n",
    "def dateMatch(textNp):\n",
    "    pattern = re.compile(r'\\b(?:January|February|March|April|May|June|July|August|September|October|November|December)\\s+\\d{1,2}(st|nd|rd|th)?\\s+\\d{4}\\b')\n",
    "    return pattern.search(textNp)\n",
    "#Example text\n",
    "sampTxt =  'On August 15th 1947 that India was declared independent from British colonialism, and the reins of control were handed over to the leaders of the Country'\n",
    "\n",
    "#Input testing\n",
    "outPt = dateMatch(sampTxt)\n",
    "print(f'Match Date',outPt)"
   ]
  },
  {
   "cell_type": "code",
   "execution_count": 65,
   "id": "4b3c7bd5",
   "metadata": {},
   "outputs": [
    {
     "name": "stdout",
     "output_type": "stream",
     "text": [
      "The word \"fox\" is found in the text.\n",
      "The word \"dog\" is found in the text.\n",
      "The word \"horse\" is not found in the text.\n"
     ]
    }
   ],
   "source": [
    "# Question 15- Write a Python program to search some literals strings in a string. \n",
    "\n",
    "import re\n",
    "#Defining function\n",
    "def searchLt(inputText, seaWords):\n",
    "    for word in seaWords:\n",
    "        if re.search(re.escape(word), inputText):\n",
    "            print(f'The word \"{word}\" is found in the text.')\n",
    "        else:\n",
    "            print(f'The word \"{word}\" is not found in the text.')\n",
    "\n",
    "# Example usage:\n",
    "sText = 'The quick brown fox jumps over the lazy dog.'\n",
    "seaWords = ['fox', 'dog', 'horse']\n",
    "\n",
    "# Call the function\n",
    "searchLt(sText, seaWords)"
   ]
  },
  {
   "cell_type": "code",
   "execution_count": 67,
   "id": "5026c2eb",
   "metadata": {},
   "outputs": [
    {
     "name": "stdout",
     "output_type": "stream",
     "text": [
      "The word \"fox\" is found in the text.\n",
      "Location: Start=16, End=19\n"
     ]
    }
   ],
   "source": [
    "# Question 16- Write a Python program to search a literals string in a string and also find the location within the original string where the pattern occurs\n",
    "import re\n",
    "\n",
    "def searchLitlocation(inputText, searchWord):\n",
    "    pattern = re.compile(re.escape(searchWord))\n",
    "    match = pattern.search(inputText)\n",
    "\n",
    "    if match:\n",
    "        print(f'The word \"{searchWord}\" is found in the text.')\n",
    "        print(f'Location: Start={match.start()}, End={match.end()}')\n",
    "    else:\n",
    "        print(f'The word \"{searchWord}\" is not found in the text.')\n",
    "\n",
    "# Example usage:\n",
    "smpText = 'The quick brown fox jumps over the lazy dog.'\n",
    "searchWord = 'fox'\n",
    "\n",
    "# Call the function\n",
    "searchLitlocation(smpText, searchWord)\n"
   ]
  },
  {
   "cell_type": "code",
   "execution_count": 69,
   "id": "773a4c61",
   "metadata": {},
   "outputs": [
    {
     "name": "stdout",
     "output_type": "stream",
     "text": [
      "The pattern \"exercises\" is found in the text at the following locations:\n",
      "Location: Start=7, End=16\n",
      "Location: Start=22, End=31\n",
      "Location: Start=36, End=45\n"
     ]
    }
   ],
   "source": [
    "# Question 17- Write a Python program to find the substrings within a string.\n",
    "import re\n",
    "#Defining function\n",
    "def find_substrings(inputText, pattern):\n",
    "    #re.finditer is used to find all occurrences of the specified pattern in the sample text\n",
    "    matches = re.finditer(pattern, inputText)\n",
    "    locations = [(match.start(), match.end()) for match in matches]\n",
    "    return locations\n",
    "\n",
    "# Example usage:\n",
    "sampleText = 'Python exercises, PHP exercises, C# exercises'\n",
    "searchPattern = 'exercises'\n",
    "\n",
    "# Call the function\n",
    "substringLocations = find_substrings(sampleText, searchPattern)\n",
    "\n",
    "# Print the result\n",
    "if substringLocations:\n",
    "    print(f'The pattern \"{searchPattern}\" is found in the text at the following locations:')\n",
    "    for start, end in substringLocations:\n",
    "        print(f'Location: Start={start}, End={end}')\n",
    "else:\n",
    "    print(f'The pattern \"{searchPattern}\" is not found in the text.')\n"
   ]
  },
  {
   "cell_type": "code",
   "execution_count": 71,
   "id": "5bfe9dd9",
   "metadata": {},
   "outputs": [
    {
     "name": "stdout",
     "output_type": "stream",
     "text": [
      "Occurrences of 'Hello' found at positions:\n",
      "Start position: 0, End position: 5\n",
      "Start position: 7, End position: 12\n",
      "Start position: 14, End position: 19\n"
     ]
    }
   ],
   "source": [
    "# Question 18- Write a Python program to find the occurrence and position of the substrings within a string.\n",
    "\n",
    "import re\n",
    "#Defining function\n",
    "def findOccurPos(mainString, substring):\n",
    "    return [(match.start(), match.end()) for match in re.finditer(substring, mainString)]\n",
    "\n",
    "# Example usage\n",
    "inputString = \"Hello, Hello, Hello, how are you doing today?\"\n",
    "subFind = \"Hello\"\n",
    "\n",
    "occurPosi = findOccurPos(inputString, subFind)\n",
    "\n",
    "# Display results\n",
    "if occurPosi:\n",
    "    print(f\"Occurrences of '{subFind}' found at positions:\")\n",
    "    for start_pos, end_pos in occurPosi:\n",
    "        print(f\"Start position: {start_pos}, End position: {end_pos}\")\n",
    "else:\n",
    "    print(f\"No occurrences of '{subFind}' found in the input string.\")\n",
    "\n"
   ]
  },
  {
   "cell_type": "code",
   "execution_count": 74,
   "id": "d954dc01",
   "metadata": {},
   "outputs": [
    {
     "name": "stdout",
     "output_type": "stream",
     "text": [
      "Original date: 2023-01-15\n",
      "Converted date: 15-01-2023\n"
     ]
    }
   ],
   "source": [
    "# Question 19- Write a Python program to convert a date of yyyy-mm-dd format to dd-mm-yyyy format.\n",
    "\n",
    "import re\n",
    "# Defining the Function\n",
    "def convertDate(inputDate):\n",
    "    # Define a regular expression pattern for matching yyyy-mm-dd format\n",
    "    pattern = re.compile(r'(\\d{4})-(\\d{2})-(\\d{2})')\n",
    "\n",
    "    # Use re.sub to replace the matched pattern with the desired format\n",
    "    outputDate = re.sub(pattern, r'\\3-\\2-\\1', inputDate)\n",
    "\n",
    "    return outputDate\n",
    "\n",
    "# Example usage\n",
    "inputDate = \"2023-01-15\"\n",
    "convertedDate = convertDate(inputDate)\n",
    "\n",
    "print(f\"Original date: {inputDate}\")\n",
    "print(f\"Converted date: {convertedDate}\")\n",
    "\n"
   ]
  },
  {
   "cell_type": "code",
   "execution_count": 75,
   "id": "c1f7d8c0",
   "metadata": {},
   "outputs": [
    {
     "name": "stdout",
     "output_type": "stream",
     "text": [
      "Input Text: 01.12 0132.123 2.31875 145.8 3.01 27.25 0.25\n",
      "Decimal Numbers: ['01.12', '145.8', '3.01', '27.25', '0.25']\n"
     ]
    }
   ],
   "source": [
    "# Question 20- Create a function in python to find all decimal numbers with a precision of 1 or 2 in a string. The use of the re.compile() method is mandatory.\n",
    "import re\n",
    "#Defining function\n",
    "def findDnum(text):\n",
    "    # Define a regular expression pattern for matching decimal numbers with precision 1 or 2\n",
    "    pattern = re.compile(r'\\b\\d+\\.\\d{1,2}\\b')\n",
    "\n",
    "    # Use re.findall to find all matches in the input text\n",
    "    decimal_numbers = re.findall(pattern, text)\n",
    "\n",
    "    return decimal_numbers\n",
    "\n",
    "# Example usage\n",
    "sampleText = \"01.12 0132.123 2.31875 145.8 3.01 27.25 0.25\"\n",
    "result = findDnum(sampleText)\n",
    "\n",
    "print(\"Input Text:\", sampleText)\n",
    "print(\"Decimal Numbers:\", result)\n"
   ]
  },
  {
   "cell_type": "code",
   "execution_count": 77,
   "id": "9c28b656",
   "metadata": {},
   "outputs": [
    {
     "name": "stdout",
     "output_type": "stream",
     "text": [
      "Numbers and their positions:\n",
      "Number: 123, Start Position: 7, End Position: 10\n",
      "Number: 456, Start Position: 37, End Position: 40\n",
      "Number: 78, Start Position: 41, End Position: 43\n"
     ]
    }
   ],
   "source": [
    "# Question 21- Write a Python program to separate and print the numbers and their position of a given string.\n",
    "\n",
    "import re\n",
    "#Defining function\n",
    "def separateNum(inputString):\n",
    "    # Define a regular expression pattern for matching numbers\n",
    "    pattern = re.compile(r'\\d+')\n",
    "\n",
    "    # Use re.finditer to find all occurrences of numbers along with their positions\n",
    "    numbersPositions = [(match.group(), match.start(), match.end()) for match in re.finditer(pattern, inputString)]\n",
    "\n",
    "    # Print the results\n",
    "    print(\"Numbers and their positions:\")\n",
    "    for number, start_pos, end_pos in numbersPositions:\n",
    "        print(f\"Number: {number}, Start Position: {start_pos}, End Position: {end_pos}\")\n",
    "\n",
    "# Example usage\n",
    "inputString = \"Hello, 123, how are you doing today? 456.78 is a floating-point number.\"\n",
    "\n",
    "separateNum(inputString)\n"
   ]
  },
  {
   "cell_type": "code",
   "execution_count": 79,
   "id": "5eb31faa",
   "metadata": {},
   "outputs": [
    {
     "name": "stdout",
     "output_type": "stream",
     "text": [
      "Sample Text: My marks in each semester are: 947, 896, 926, 524, 734, 950, 642\n",
      "Maximum Numeric Value: 950\n"
     ]
    }
   ],
   "source": [
    "#Question 22- Write a regular expression in python program to extract maximum/largest numeric value from a string.\n",
    "\n",
    "import re\n",
    "# Defining function\n",
    "def extractMvalue(inputText):\n",
    "    # Define a regular expression pattern for matching numeric values\n",
    "    pattern = re.compile(r'\\b\\d+\\b')\n",
    "\n",
    "    # Use re.findall to find all numeric values in the input text\n",
    "    numericValues = [int(match) for match in re.findall(pattern, inputText)]\n",
    "\n",
    "    # Find the maximum numeric value\n",
    "    maxValue = max(numericValues, default=None)\n",
    "\n",
    "    return maxValue\n",
    "\n",
    "# Example usage\n",
    "sampleText = 'My marks in each semester are: 947, 896, 926, 524, 734, 950, 642'\n",
    "result = extractMvalue(sampleText)\n",
    "\n",
    "print(\"Sample Text:\", sampleText)\n",
    "print(\"Maximum Numeric Value:\", result)\n"
   ]
  },
  {
   "cell_type": "code",
   "execution_count": 80,
   "id": "70c1539a",
   "metadata": {},
   "outputs": [
    {
     "name": "stdout",
     "output_type": "stream",
     "text": [
      "Sample Text: RegularExpressionIsAnImportantTopicInPython\n",
      "Output Text: Regular expression is an important topic in python\n"
     ]
    }
   ],
   "source": [
    "# Question 23- Create a function in python to insert spaces between words starting with capital letters.\n",
    "\n",
    "import re\n",
    "\n",
    "#Defining function\n",
    "def insertSpaces(inputText):\n",
    "    # Use re.sub to insert spaces before words starting with capital letters\n",
    "    spacedText = re.sub(r'([a-z])([A-Z])', r'\\1 \\2', inputText)\n",
    "\n",
    "    # Capitalize the first letter of the modified text\n",
    "    spacedText = spacedText.capitalize()\n",
    "\n",
    "    return spacedText\n",
    "\n",
    "# Example usage\n",
    "sampleText = \"RegularExpressionIsAnImportantTopicInPython\"\n",
    "result = insertSpaces(sampleText)\n",
    "\n",
    "print(\"Sample Text:\", sampleText)\n",
    "print(\"Output Text:\", result)\n"
   ]
  },
  {
   "cell_type": "code",
   "execution_count": 81,
   "id": "b9dfd24d",
   "metadata": {},
   "outputs": [
    {
     "name": "stdout",
     "output_type": "stream",
     "text": [
      "Sample Text: AbCdEfGhIjKlMnOpQrStUvWxYz\n",
      "Found Sequences: ['Ab', 'Cd', 'Ef', 'Gh', 'Ij', 'Kl', 'Mn', 'Op', 'Qr', 'St', 'Uv', 'Wx', 'Yz']\n"
     ]
    }
   ],
   "source": [
    "# Question 24- Python regex to find sequences of one upper case letter followed by lower case letters\n",
    "\n",
    "import re\n",
    "#Defining function\n",
    "def findSequences(inputText):\n",
    "    pattern = re.compile(r'[A-Z][a-z]+')\n",
    "    sequences = re.findall(pattern, inputText)\n",
    "    return sequences\n",
    "\n",
    "# Example usage\n",
    "sampleText = \"AbCdEfGhIjKlMnOpQrStUvWxYz\"\n",
    "result = findSequences(sampleText)\n",
    "\n",
    "print(\"Sample Text:\", sampleText)\n",
    "print(\"Found Sequences:\", result)\n"
   ]
  },
  {
   "cell_type": "code",
   "execution_count": 83,
   "id": "12c11294",
   "metadata": {},
   "outputs": [
    {
     "name": "stdout",
     "output_type": "stream",
     "text": [
      "Sample Text: Hello hello world world\n",
      "Modified Text: Hello hello world\n"
     ]
    }
   ],
   "source": [
    "# Question 25- Write a Python program to remove continuous duplicate words from Sentence using Regular Expression.\n",
    "\n",
    "import re\n",
    "#Defining model\n",
    "def removeDuplicates(sentence):\n",
    "    # Use re.sub with a backreference to remove continuous duplicate words\n",
    "    modifiedSentence = re.sub(r'\\b(\\w+)\\s+\\1\\b', r'\\1', sentence)\n",
    "\n",
    "    return modifiedSentence\n",
    "\n",
    "# Example usage\n",
    "sampleText = \"Hello hello world world\"\n",
    "result = removeDuplicates(sampleText)\n",
    "\n",
    "print(\"Sample Text:\", sampleText)\n",
    "print(\"Modified Text:\", result)\n"
   ]
  },
  {
   "cell_type": "code",
   "execution_count": 84,
   "id": "733ed0c6",
   "metadata": {},
   "outputs": [
    {
     "name": "stdout",
     "output_type": "stream",
     "text": [
      "Sample String: Hello123\n",
      "Ends with Alphanumeric: True\n"
     ]
    }
   ],
   "source": [
    "# Question 26-  Write a python program using RegEx to accept string ending with alphanumeric character.\n",
    "\n",
    "import re\n",
    "# Defining function\n",
    "def endingWithalphaNumeric(inputString):\n",
    "    # Define a regular expression pattern for matching a string ending with an alphanumeric character\n",
    "    pattern = re.compile(r'.*\\w$')\n",
    "\n",
    "    # Use re.match to check if the input string matches the pattern\n",
    "    match = re.match(pattern, inputString)\n",
    "\n",
    "    return bool(match)\n",
    "\n",
    "# Example usage\n",
    "sampleString = \"Hello123\"\n",
    "result = endingWithalphaNumeric(sampleString)\n",
    "\n",
    "print(\"Sample String:\", sampleString)\n",
    "print(\"Ends with Alphanumeric:\", result)\n"
   ]
  },
  {
   "cell_type": "code",
   "execution_count": 86,
   "id": "abeac603",
   "metadata": {},
   "outputs": [
    {
     "name": "stdout",
     "output_type": "stream",
     "text": [
      "Sample Text: RT @kapil_kausik: #Doltiwal I mean #xyzabc is \"hurt\" by #Demonetization as the same has rendered USELESS <ed><U+00A0><U+00BD><ed><U+00B1><U+0089> \"acquired funds\" No wo\n",
      "Extracted Hashtags: ['#Doltiwal', '#xyzabc', '#Demonetization']\n"
     ]
    }
   ],
   "source": [
    "# Question 27-Write a python program using RegEx to extract the hashtags.\n",
    "import re\n",
    "# Defining function\n",
    "def extractHashtags(inputText):\n",
    "    # Define a regular expression pattern for matching hashtags\n",
    "    pattern = re.compile(r'#\\w+')\n",
    "\n",
    "    # Use re.findall to find all matches in the input text\n",
    "    hashtags = re.findall(pattern, inputText)\n",
    "\n",
    "    return hashtags\n",
    "\n",
    "# Example usage\n",
    "sampleText = \"\"\"RT @kapil_kausik: #Doltiwal I mean #xyzabc is \"hurt\" by #Demonetization as the same has rendered USELESS <ed><U+00A0><U+00BD><ed><U+00B1><U+0089> \"acquired funds\" No wo\"\"\"\n",
    "result = extractHashtags(sampleText)\n",
    "\n",
    "print(\"Sample Text:\", sampleText)\n",
    "print(\"Extracted Hashtags:\", result)\n"
   ]
  },
  {
   "cell_type": "code",
   "execution_count": 88,
   "id": "6838b709",
   "metadata": {},
   "outputs": [
    {
     "name": "stdout",
     "output_type": "stream",
     "text": [
      "Sample Text: @Jags123456 Bharat band on 28??<ed><U+00A0><U+00BD><ed><U+00B8><U+0082>Those who  are protesting #demonetization  are all different party leaders\n",
      "Cleaned Text: @Jags123456 Bharat band on 28??<ed><ed>Those who  are protesting #demonetization  are all different party leaders\n"
     ]
    }
   ],
   "source": [
    "# Question 28- Write a python program using RegEx to remove <U+..> like symbols\n",
    "\n",
    "import re\n",
    "# Defining function\n",
    "def removeSymbols(inputText):\n",
    "    # Define a regular expression pattern for matching symbols like <U+..>\n",
    "    pattern = re.compile(r'<U\\+[A-Fa-f0-9]+>')\n",
    "\n",
    "    # Use re.sub to replace the matched pattern with an empty string\n",
    "    cleanedText = re.sub(pattern, '', inputText)\n",
    "\n",
    "    return cleanedText\n",
    "\n",
    "# Example usage\n",
    "sampleText = \"@Jags123456 Bharat band on 28??<ed><U+00A0><U+00BD><ed><U+00B8><U+0082>Those who  are protesting #demonetization  are all different party leaders\"\n",
    "result = removeSymbols(sampleText)\n",
    "\n",
    "print(\"Sample Text:\", sampleText)\n",
    "print(\"Cleaned Text:\", result)\n"
   ]
  },
  {
   "cell_type": "code",
   "execution_count": 91,
   "id": "7d87b9a0",
   "metadata": {},
   "outputs": [
    {
     "name": "stdout",
     "output_type": "stream",
     "text": [
      "Dates extracted from the file:\n",
      "12-09-1992\n",
      "15-12-1999\n"
     ]
    }
   ],
   "source": [
    "# Question 29- Write a python program to extract dates from the text stored in the text file.\n",
    "\n",
    "import re\n",
    "\n",
    "def extractDate(file_path):\n",
    "    # Read the content of the file\n",
    "    with open(file_path, 'r') as file:\n",
    "        content = file.read()\n",
    "\n",
    "    # Define a regular expression pattern for matching dates in the format dd-mm-yyyy\n",
    "    pattern = re.compile(r'\\b\\d{2}-\\d{2}-\\d{4}\\b')\n",
    "\n",
    "    # Use re.findall to find all matches in the file content\n",
    "    dates = re.findall(pattern, content)\n",
    "\n",
    "    return dates\n",
    "\n",
    "# Example usage\n",
    "file_path = r'C:\\Users\\Apelu\\OneDrive\\Desktop\\File2 Regex Assessment DS2311\\sample_text.txt'\n",
    "result = extractDate(file_path)\n",
    "\n",
    "print(\"Dates extracted from the file:\")\n",
    "for date in result:\n",
    "    print(date)\n"
   ]
  },
  {
   "cell_type": "code",
   "execution_count": 92,
   "id": "75c29e9f",
   "metadata": {},
   "outputs": [
    {
     "name": "stdout",
     "output_type": "stream",
     "text": [
      "Sample Text: The following example creates an ArrayList with a capacity of 50 elements. 4 elements are then added to the ArrayList and the ArrayList is trimmed accordingly.\n",
      "Cleaned Text:  following example creates  ArrayList  a capacity   elements. 4 elements   added   ArrayList   ArrayList  trimmed accordingly.\n"
     ]
    }
   ],
   "source": [
    "# Question 30- Create a function in python to remove all words from a string of length between 2 and 4.\n",
    "\n",
    "import re\n",
    "#Defining function\n",
    "def removeWords(inputText):\n",
    "    # Define a regular expression pattern for matching words of length between 2 and 4\n",
    "    pattern = re.compile(r'\\b\\w{2,4}\\b')\n",
    "\n",
    "    # Use re.sub to replace the matched pattern with an empty string\n",
    "    cleanedText = re.sub(pattern, '', inputText)\n",
    "\n",
    "    return cleanedText\n",
    "\n",
    "# Example usage\n",
    "sampleText = \"The following example creates an ArrayList with a capacity of 50 elements. 4 elements are then added to the ArrayList and the ArrayList is trimmed accordingly.\"\n",
    "result = removeWords(sampleText)\n",
    "\n",
    "print(\"Sample Text:\", sampleText)\n",
    "print(\"Cleaned Text:\", result)\n"
   ]
  },
  {
   "cell_type": "code",
   "execution_count": null,
   "id": "8d085d0a",
   "metadata": {},
   "outputs": [],
   "source": []
  }
 ],
 "metadata": {
  "kernelspec": {
   "display_name": "Python 3 (ipykernel)",
   "language": "python",
   "name": "python3"
  },
  "language_info": {
   "codemirror_mode": {
    "name": "ipython",
    "version": 3
   },
   "file_extension": ".py",
   "mimetype": "text/x-python",
   "name": "python",
   "nbconvert_exporter": "python",
   "pygments_lexer": "ipython3",
   "version": "3.9.16"
  }
 },
 "nbformat": 4,
 "nbformat_minor": 5
}
